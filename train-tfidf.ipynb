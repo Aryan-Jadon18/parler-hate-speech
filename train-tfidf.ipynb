{
 "cells": [
  {
   "cell_type": "code",
   "execution_count": 22,
   "id": "e78d6190-5d92-4b86-b7f3-dc4194f6757f",
   "metadata": {},
   "outputs": [],
   "source": [
    "from sklearn.metrics import mean_squared_error\n",
    "from sklearn.model_selection import StratifiedKFold, GroupKFold, KFold\n",
    "from iterstrat.ml_stratifiers import MultilabelStratifiedKFold\n",
    "import pandas as pd\n",
    "import numpy as np\n",
    "from sklearn.metrics import confusion_matrix\n",
    "import seaborn as sns\n",
    "from matplotlib import pyplot as plt\n",
    "from sklearn.metrics import accuracy_score\n",
    "from lightgbm import LGBMRegressor\n",
    "from lightgbm import LGBMClassifier\n",
    "import gc"
   ]
  },
  {
   "cell_type": "code",
   "execution_count": 4,
   "id": "4d2d4652-00ee-4ace-a13e-f25b25790699",
   "metadata": {},
   "outputs": [],
   "source": [
    "def MCRMSE(y_trues, y_preds):\n",
    "    scores = []\n",
    "    idxes = y_trues.shape[1]\n",
    "    for i in range(idxes):\n",
    "        y_true = y_trues[:,i]\n",
    "        y_pred = y_preds[:,i]\n",
    "        score = mean_squared_error(y_true, y_pred, squared=False) # RMSE\n",
    "        scores.append(score)\n",
    "    mcrmse_score = np.mean(scores)\n",
    "    return mcrmse_score, scores\n",
    "\n",
    "def get_score(y_trues, y_preds):\n",
    "    mcrmse_score, scores = MCRMSE(y_trues, y_preds)\n",
    "    return mcrmse_score, scores"
   ]
  },
  {
   "cell_type": "code",
   "execution_count": 5,
   "id": "3f391d4c-ccb4-4ccd-9002-c6116739eb99",
   "metadata": {},
   "outputs": [
    {
     "name": "stdout",
     "output_type": "stream",
     "text": [
      "train.shape: (10121, 4)\n"
     ]
    },
    {
     "data": {
      "text/html": [
       "<div>\n",
       "<style scoped>\n",
       "    .dataframe tbody tr th:only-of-type {\n",
       "        vertical-align: middle;\n",
       "    }\n",
       "\n",
       "    .dataframe tbody tr th {\n",
       "        vertical-align: top;\n",
       "    }\n",
       "\n",
       "    .dataframe thead th {\n",
       "        text-align: right;\n",
       "    }\n",
       "</style>\n",
       "<table border=\"1\" class=\"dataframe\">\n",
       "  <thead>\n",
       "    <tr style=\"text-align: right;\">\n",
       "      <th></th>\n",
       "      <th>id</th>\n",
       "      <th>text</th>\n",
       "      <th>label_mean</th>\n",
       "      <th>disputable_post</th>\n",
       "    </tr>\n",
       "  </thead>\n",
       "  <tbody>\n",
       "    <tr>\n",
       "      <th>0</th>\n",
       "      <td>a113a2d777ca4211ae97a193eee44dc1</td>\n",
       "      <td>Black men are taught that a word justifies all...</td>\n",
       "      <td>2.60</td>\n",
       "      <td>True</td>\n",
       "    </tr>\n",
       "    <tr>\n",
       "      <th>1</th>\n",
       "      <td>bb348c5f20a84be1bc3467d32312341c</td>\n",
       "      <td>Biden and his supporters are claiming that Bid...</td>\n",
       "      <td>3.00</td>\n",
       "      <td>True</td>\n",
       "    </tr>\n",
       "    <tr>\n",
       "      <th>2</th>\n",
       "      <td>39df38e04a44423f93ba1d1dc79070c9</td>\n",
       "      <td>Pelosi; âOne way or another Joe Biden will b...</td>\n",
       "      <td>0.25</td>\n",
       "      <td>False</td>\n",
       "    </tr>\n",
       "    <tr>\n",
       "      <th>3</th>\n",
       "      <td>68dd325894274be79f73767e92e64702</td>\n",
       "      <td>Northern California Declares Independence From...</td>\n",
       "      <td>2.00</td>\n",
       "      <td>True</td>\n",
       "    </tr>\n",
       "    <tr>\n",
       "      <th>4</th>\n",
       "      <td>9503e349140b4bbe9e496f4c0f15f830</td>\n",
       "      <td>Whistleblower claims top DHS officials sought ...</td>\n",
       "      <td>0.50</td>\n",
       "      <td>False</td>\n",
       "    </tr>\n",
       "  </tbody>\n",
       "</table>\n",
       "</div>"
      ],
      "text/plain": [
       "                                 id  \\\n",
       "0  a113a2d777ca4211ae97a193eee44dc1   \n",
       "1  bb348c5f20a84be1bc3467d32312341c   \n",
       "2  39df38e04a44423f93ba1d1dc79070c9   \n",
       "3  68dd325894274be79f73767e92e64702   \n",
       "4  9503e349140b4bbe9e496f4c0f15f830   \n",
       "\n",
       "                                                text  label_mean  \\\n",
       "0  Black men are taught that a word justifies all...        2.60   \n",
       "1  Biden and his supporters are claiming that Bid...        3.00   \n",
       "2  Pelosi; âOne way or another Joe Biden will b...        0.25   \n",
       "3  Northern California Declares Independence From...        2.00   \n",
       "4  Whistleblower claims top DHS officials sought ...        0.50   \n",
       "\n",
       "   disputable_post  \n",
       "0             True  \n",
       "1             True  \n",
       "2            False  \n",
       "3             True  \n",
       "4            False  "
      ]
     },
     "metadata": {},
     "output_type": "display_data"
    },
    {
     "name": "stdout",
     "output_type": "stream",
     "text": [
      "test.shape: (10121, 4)\n"
     ]
    },
    {
     "data": {
      "text/html": [
       "<div>\n",
       "<style scoped>\n",
       "    .dataframe tbody tr th:only-of-type {\n",
       "        vertical-align: middle;\n",
       "    }\n",
       "\n",
       "    .dataframe tbody tr th {\n",
       "        vertical-align: top;\n",
       "    }\n",
       "\n",
       "    .dataframe thead th {\n",
       "        text-align: right;\n",
       "    }\n",
       "</style>\n",
       "<table border=\"1\" class=\"dataframe\">\n",
       "  <thead>\n",
       "    <tr style=\"text-align: right;\">\n",
       "      <th></th>\n",
       "      <th>id</th>\n",
       "      <th>text</th>\n",
       "      <th>label_mean</th>\n",
       "      <th>disputable_post</th>\n",
       "    </tr>\n",
       "  </thead>\n",
       "  <tbody>\n",
       "    <tr>\n",
       "      <th>0</th>\n",
       "      <td>a113a2d777ca4211ae97a193eee44dc1</td>\n",
       "      <td>Black men are taught that a word justifies all...</td>\n",
       "      <td>3.60</td>\n",
       "      <td>True</td>\n",
       "    </tr>\n",
       "    <tr>\n",
       "      <th>1</th>\n",
       "      <td>bb348c5f20a84be1bc3467d32312341c</td>\n",
       "      <td>Biden and his supporters are claiming that Bid...</td>\n",
       "      <td>4.00</td>\n",
       "      <td>True</td>\n",
       "    </tr>\n",
       "    <tr>\n",
       "      <th>2</th>\n",
       "      <td>39df38e04a44423f93ba1d1dc79070c9</td>\n",
       "      <td>Pelosi; âOne way or another Joe Biden will b...</td>\n",
       "      <td>1.25</td>\n",
       "      <td>False</td>\n",
       "    </tr>\n",
       "    <tr>\n",
       "      <th>3</th>\n",
       "      <td>68dd325894274be79f73767e92e64702</td>\n",
       "      <td>Northern California Declares Independence From...</td>\n",
       "      <td>3.00</td>\n",
       "      <td>True</td>\n",
       "    </tr>\n",
       "    <tr>\n",
       "      <th>4</th>\n",
       "      <td>9503e349140b4bbe9e496f4c0f15f830</td>\n",
       "      <td>Whistleblower claims top DHS officials sought ...</td>\n",
       "      <td>1.50</td>\n",
       "      <td>False</td>\n",
       "    </tr>\n",
       "  </tbody>\n",
       "</table>\n",
       "</div>"
      ],
      "text/plain": [
       "                                 id  \\\n",
       "0  a113a2d777ca4211ae97a193eee44dc1   \n",
       "1  bb348c5f20a84be1bc3467d32312341c   \n",
       "2  39df38e04a44423f93ba1d1dc79070c9   \n",
       "3  68dd325894274be79f73767e92e64702   \n",
       "4  9503e349140b4bbe9e496f4c0f15f830   \n",
       "\n",
       "                                                text  label_mean  \\\n",
       "0  Black men are taught that a word justifies all...        3.60   \n",
       "1  Biden and his supporters are claiming that Bid...        4.00   \n",
       "2  Pelosi; âOne way or another Joe Biden will b...        1.25   \n",
       "3  Northern California Declares Independence From...        3.00   \n",
       "4  Whistleblower claims top DHS officials sought ...        1.50   \n",
       "\n",
       "   disputable_post  \n",
       "0             True  \n",
       "1             True  \n",
       "2            False  \n",
       "3             True  \n",
       "4            False  "
      ]
     },
     "metadata": {},
     "output_type": "display_data"
    },
    {
     "name": "stdout",
     "output_type": "stream",
     "text": [
      "submission.shape: (10121, 4)\n"
     ]
    },
    {
     "data": {
      "text/html": [
       "<div>\n",
       "<style scoped>\n",
       "    .dataframe tbody tr th:only-of-type {\n",
       "        vertical-align: middle;\n",
       "    }\n",
       "\n",
       "    .dataframe tbody tr th {\n",
       "        vertical-align: top;\n",
       "    }\n",
       "\n",
       "    .dataframe thead th {\n",
       "        text-align: right;\n",
       "    }\n",
       "</style>\n",
       "<table border=\"1\" class=\"dataframe\">\n",
       "  <thead>\n",
       "    <tr style=\"text-align: right;\">\n",
       "      <th></th>\n",
       "      <th>id</th>\n",
       "      <th>text</th>\n",
       "      <th>label_mean</th>\n",
       "      <th>disputable_post</th>\n",
       "    </tr>\n",
       "  </thead>\n",
       "  <tbody>\n",
       "    <tr>\n",
       "      <th>0</th>\n",
       "      <td>a113a2d777ca4211ae97a193eee44dc1</td>\n",
       "      <td>Black men are taught that a word justifies all...</td>\n",
       "      <td>3.60</td>\n",
       "      <td>True</td>\n",
       "    </tr>\n",
       "    <tr>\n",
       "      <th>1</th>\n",
       "      <td>bb348c5f20a84be1bc3467d32312341c</td>\n",
       "      <td>Biden and his supporters are claiming that Bid...</td>\n",
       "      <td>4.00</td>\n",
       "      <td>True</td>\n",
       "    </tr>\n",
       "    <tr>\n",
       "      <th>2</th>\n",
       "      <td>39df38e04a44423f93ba1d1dc79070c9</td>\n",
       "      <td>Pelosi; âOne way or another Joe Biden will b...</td>\n",
       "      <td>1.25</td>\n",
       "      <td>False</td>\n",
       "    </tr>\n",
       "    <tr>\n",
       "      <th>3</th>\n",
       "      <td>68dd325894274be79f73767e92e64702</td>\n",
       "      <td>Northern California Declares Independence From...</td>\n",
       "      <td>3.00</td>\n",
       "      <td>True</td>\n",
       "    </tr>\n",
       "    <tr>\n",
       "      <th>4</th>\n",
       "      <td>9503e349140b4bbe9e496f4c0f15f830</td>\n",
       "      <td>Whistleblower claims top DHS officials sought ...</td>\n",
       "      <td>1.50</td>\n",
       "      <td>False</td>\n",
       "    </tr>\n",
       "  </tbody>\n",
       "</table>\n",
       "</div>"
      ],
      "text/plain": [
       "                                 id  \\\n",
       "0  a113a2d777ca4211ae97a193eee44dc1   \n",
       "1  bb348c5f20a84be1bc3467d32312341c   \n",
       "2  39df38e04a44423f93ba1d1dc79070c9   \n",
       "3  68dd325894274be79f73767e92e64702   \n",
       "4  9503e349140b4bbe9e496f4c0f15f830   \n",
       "\n",
       "                                                text  label_mean  \\\n",
       "0  Black men are taught that a word justifies all...        3.60   \n",
       "1  Biden and his supporters are claiming that Bid...        4.00   \n",
       "2  Pelosi; âOne way or another Joe Biden will b...        1.25   \n",
       "3  Northern California Declares Independence From...        3.00   \n",
       "4  Whistleblower claims top DHS officials sought ...        1.50   \n",
       "\n",
       "   disputable_post  \n",
       "0             True  \n",
       "1             True  \n",
       "2            False  \n",
       "3             True  \n",
       "4            False  "
      ]
     },
     "metadata": {},
     "output_type": "display_data"
    }
   ],
   "source": [
    "# ====================================================\n",
    "# Data Loading\n",
    "# ====================================================\n",
    "train = pd.read_csv('parler-hate-speech/parler_annotated_data.csv')\n",
    "test = pd.read_csv('parler-hate-speech/parler_annotated_data.csv')\n",
    "submission = pd.read_csv('parler-hate-speech/parler_annotated_data.csv')\n",
    "train.label_mean = train.label_mean - 1\n",
    "print(f\"train.shape: {train.shape}\")\n",
    "display(train.head())\n",
    "print(f\"test.shape: {test.shape}\")\n",
    "display(test.head())\n",
    "print(f\"submission.shape: {submission.shape}\")\n",
    "display(submission.head())"
   ]
  },
  {
   "cell_type": "code",
   "execution_count": 32,
   "id": "9de6e5e2-7171-4177-9e9b-9bd842d56c2e",
   "metadata": {},
   "outputs": [
    {
     "data": {
      "text/plain": [
       "0.8893389981227151"
      ]
     },
     "execution_count": 32,
     "metadata": {},
     "output_type": "execute_result"
    }
   ],
   "source": [
    "accuracy_score(train['disputable_post'],np.zeros_like(train['disputable_post'].values))"
   ]
  },
  {
   "cell_type": "code",
   "execution_count": 8,
   "id": "bc5e01d0-4b5e-4199-a52a-dd1cee5d08e0",
   "metadata": {},
   "outputs": [
    {
     "data": {
      "text/plain": [
       "fold\n",
       "0    2024\n",
       "1    2024\n",
       "2    2025\n",
       "3    2024\n",
       "4    2024\n",
       "dtype: int64"
      ]
     },
     "metadata": {},
     "output_type": "display_data"
    }
   ],
   "source": [
    "# ====================================================\n",
    "# CV split\n",
    "# ====================================================\n",
    "Fold = MultilabelStratifiedKFold(n_splits=5, shuffle=True, random_state=42)\n",
    "for n, (train_index, val_index) in enumerate(Fold.split(train, train[['id','label_mean']])):\n",
    "    train.loc[val_index, 'fold'] = int(n)\n",
    "train['fold'] = train['fold'].astype(int)\n",
    "display(train.groupby('fold').size())"
   ]
  },
  {
   "cell_type": "code",
   "execution_count": 9,
   "id": "856ba8ec-6f04-4f25-99b5-c5a82104d43c",
   "metadata": {},
   "outputs": [
    {
     "data": {
      "text/plain": [
       "(10121, 78432)"
      ]
     },
     "execution_count": 9,
     "metadata": {},
     "output_type": "execute_result"
    }
   ],
   "source": [
    "from sklearn.feature_extraction.text import TfidfVectorizer\n",
    "from sklearn.decomposition import TruncatedSVD\n",
    "vectorizer = TfidfVectorizer(ngram_range=(1,8), max_df=0.9, min_df=2 )\n",
    "X = vectorizer.fit_transform(train.text)\n",
    "X.shape"
   ]
  },
  {
   "cell_type": "code",
   "execution_count": 10,
   "id": "0433bca8-c3bb-4f7c-92eb-d0191fdc5dd3",
   "metadata": {},
   "outputs": [
    {
     "data": {
      "text/plain": [
       "(10121, 128)"
      ]
     },
     "execution_count": 10,
     "metadata": {},
     "output_type": "execute_result"
    }
   ],
   "source": [
    "svd = TruncatedSVD(n_components=128)\n",
    "EMB = svd.fit_transform(X)\n",
    "EMB.shape"
   ]
  },
  {
   "cell_type": "code",
   "execution_count": 11,
   "id": "4bef2ea4-7233-4c8c-ba19-d901dec73259",
   "metadata": {},
   "outputs": [],
   "source": [
    "fet = []\n",
    "for i in range(EMB.shape[1]):\n",
    "    train[f'svd{i}'] = EMB[:,i]\n",
    "    fet.append(f'svd{i}')"
   ]
  },
  {
   "cell_type": "code",
   "execution_count": 12,
   "id": "c8b1ded4-fb17-48ce-9915-ad52c974117b",
   "metadata": {},
   "outputs": [],
   "source": [
    "train['id'] = train['id'].factorize()[0].astype('int32')"
   ]
  },
  {
   "cell_type": "code",
   "execution_count": 13,
   "id": "2ab7af3a-e9dc-4f1b-abb4-c6a347558a3e",
   "metadata": {},
   "outputs": [],
   "source": [
    "fet.append(\"id\")"
   ]
  },
  {
   "cell_type": "code",
   "execution_count": 14,
   "id": "934cdec9-323d-4714-9a4b-dafdef3f9ba9",
   "metadata": {},
   "outputs": [],
   "source": [
    "for i in range(128):\n",
    "    train[f'svd_mean{i}'] = train.groupby('id')[f'svd{i}'].transform('mean')\n",
    "    train[f'svd_dif{i}'] = train[f'svd_mean{i}'] - train[f'svd{i}']\n",
    "    fet.append(f'svd_mean{i}')\n",
    "    fet.append(f'svd_dif{i}')"
   ]
  },
  {
   "cell_type": "code",
   "execution_count": 20,
   "id": "bc526678-e061-406d-8cc8-68c376abe708",
   "metadata": {},
   "outputs": [
    {
     "data": {
      "text/plain": [
       "(2024,)"
      ]
     },
     "execution_count": 20,
     "metadata": {},
     "output_type": "execute_result"
    }
   ],
   "source": [
    "pred.shape"
   ]
  },
  {
   "cell_type": "code",
   "execution_count": 23,
   "id": "58892005-c968-455a-99c0-1ae90c1a3814",
   "metadata": {},
   "outputs": [
    {
     "name": "stderr",
     "output_type": "stream",
     "text": [
      "/home/kaor/.local/lib/python3.7/site-packages/lightgbm/sklearn.py:726: UserWarning: 'early_stopping_rounds' argument is deprecated and will be removed in a future release of LightGBM. Pass 'early_stopping()' callback via 'callbacks' argument instead.\n",
      "  _log_warning(\"'early_stopping_rounds' argument is deprecated and will be removed in a future release of LightGBM. \"\n",
      "/home/kaor/.local/lib/python3.7/site-packages/lightgbm/sklearn.py:736: UserWarning: 'verbose' argument is deprecated and will be removed in a future release of LightGBM. Pass 'log_evaluation()' callback via 'callbacks' argument instead.\n",
      "  _log_warning(\"'verbose' argument is deprecated and will be removed in a future release of LightGBM. \"\n",
      "/home/kaor/.local/lib/python3.7/site-packages/lightgbm/callback.py:223: UserWarning: Early stopping is not available in dart mode\n",
      "  _log_warning('Early stopping is not available in dart mode')\n"
     ]
    },
    {
     "name": "stdout",
     "output_type": "stream",
     "text": [
      "[100]\tvalid_0's l2: 1.17\n",
      "[200]\tvalid_0's l2: 1.10988\n",
      "[300]\tvalid_0's l2: 1.08411\n",
      "[400]\tvalid_0's l2: 1.06536\n",
      "[500]\tvalid_0's l2: 1.06124\n",
      "[600]\tvalid_0's l2: 1.05898\n",
      "[700]\tvalid_0's l2: 1.04929\n",
      "[800]\tvalid_0's l2: 1.05522\n",
      "[900]\tvalid_0's l2: 1.05676\n",
      "[1000]\tvalid_0's l2: 1.05947\n",
      "(1.0293036047725346, [1.0293036047725346])\n"
     ]
    }
   ],
   "source": [
    "train['pred'] = 0\n",
    "TEST = []\n",
    "NFOLDS = 5\n",
    "for fold in range(NFOLDS):\n",
    "    tra = train.loc[(train.fold!=fold)].reset_index(drop=True)\n",
    "    val = train.loc[(train.fold==fold)].reset_index(drop=True)\n",
    "    model = LGBMRegressor(learning_rate=0.1,n_estimators =1000,boosting_type = 'dart',reg_lambda = 0.5)\n",
    "    model.fit(tra[fet].values, tra['label_mean'].values,eval_set=(val[fet].values, val['label_mean'].values),verbose=100,early_stopping_rounds=20)\n",
    "    pred = model.predict(val[fet].values)\n",
    "    print(get_score(val['label_mean'].values.reshape(-1,1),pred.reshape(-1,1)))\n",
    "    gc.collect()\n",
    "    break"
   ]
  },
  {
   "cell_type": "code",
   "execution_count": 105,
   "id": "37237e0f-ea0f-4ebf-aa6c-9f3027e76e66",
   "metadata": {},
   "outputs": [
    {
     "name": "stdout",
     "output_type": "stream",
     "text": [
      "{0: 0.1136862883979141, 1: 0.1525533955425001, 2: 0.12873903240526285, 4: 0.3928969526707786}\n",
      "[100]\tvalid_0's multi_logloss: 1.48251\n",
      "0.3565217391304348\n"
     ]
    }
   ],
   "source": [
    "train['pred'] = 0\n",
    "TEST = []\n",
    "NFOLDS = 5\n",
    "for fold in range(NFOLDS):\n",
    "    w = np.array([np.count_nonzero(tra['label_mean'].values.round().astype(int) == row) for row in range(5)])\n",
    "    w = 1/w\n",
    "    w/=w.sum()\n",
    "    class_weight = {0:w[0],1:w[1],2:w[2],4:w[3],4:w[4]}\n",
    "    print(class_weight)\n",
    "    tra = train.loc[(train.fold!=fold)].reset_index(drop=True)\n",
    "    val = train.loc[(train.fold==fold)].reset_index(drop=True)\n",
    "    model = LGBMClassifier(learning_rate=0.1,n_estimators =300,reg_lambda = 0.5,class_weight = class_weight)\n",
    "    model.fit(tra[fet].values, tra['label_mean'].values.round().astype(int),eval_set=(val[fet].values, val['label_mean'].values.round().astype(int)),verbose=100,early_stopping_rounds=20)\n",
    "    pred = model.predict(val[fet].values)\n",
    "    pred_proba = model.predict_proba(val[fet].values)\n",
    "    acc = accuracy_score(val['label_mean'].values.round().astype(int),pred)\n",
    "    print(acc)\n",
    "    gc.collect()\n",
    "    break"
   ]
  },
  {
   "cell_type": "code",
   "execution_count": 111,
   "id": "80dc08df-5009-421d-9be6-3f4fdaedff61",
   "metadata": {},
   "outputs": [
    {
     "data": {
      "text/plain": [
       "0.6604743083003952"
      ]
     },
     "execution_count": 111,
     "metadata": {},
     "output_type": "execute_result"
    }
   ],
   "source": [
    "accuracy_score(val['label_mean'].values.round().astype(int)>2,pred>2)"
   ]
  },
  {
   "cell_type": "code",
   "execution_count": 110,
   "id": "a174826a-d5b2-436a-baaa-b81a59db7c0b",
   "metadata": {},
   "outputs": [
    {
     "data": {
      "image/png": "[encoded data removed]",
      "text/plain": [
       "<Figure size 720x720 with 2 Axes>"
      ]
     },
     "metadata": {
      "needs_background": "light"
     },
     "output_type": "display_data"
    }
   ],
   "source": [
    "cm = confusion_matrix(val['label_mean'].values.round().astype(int)>2,pred>2)\n",
    "cmn = cm.astype('float') / cm.sum(axis=1)[:, np.newaxis]\n",
    "fig, ax = plt.subplots(figsize=(10,10))\n",
    "sns.heatmap(cmn, annot=True, fmt='.2f')\n",
    "plt.ylabel('Actual')\n",
    "plt.xlabel('Predicted')\n",
    "plt.show(block=False)"
   ]
  }
 ],
 "metadata": {
  "kernelspec": {
   "display_name": "Python (mmdet)",
   "language": "python",
   "name": "mmdet"
  },
  "language_info": {
   "codemirror_mode": {
    "name": "ipython",
    "version": 3
   },
   "file_extension": ".py",
   "mimetype": "text/x-python",
   "name": "python",
   "nbconvert_exporter": "python",
   "pygments_lexer": "ipython3",
   "version": "3.7.10"
  }
 },
 "nbformat": 4,
 "nbformat_minor": 5
}
