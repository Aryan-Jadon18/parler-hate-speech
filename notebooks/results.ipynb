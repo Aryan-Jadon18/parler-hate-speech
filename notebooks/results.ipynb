{
 "cells": [
  {
   "cell_type": "code",
   "execution_count": 1,
   "id": "232c1c0b-e2dd-43ba-bb90-1b4780fe4165",
   "metadata": {},
   "outputs": [],
   "source": [
    "import pandas as pd\n",
    "from sklearn.metrics import mean_squared_error,mean_absolute_error,r2_score,recall_score,roc_auc_score,accuracy_score\n",
    "import numpy as np\n",
    "import glob\n",
    "from scipy.stats import ttest_ind,binom_test\n",
    "import statsmodels.api as sm\n",
    "from scipy import stats\n",
    "from matplotlib import pyplot as plt"
   ]
  },
  {
   "cell_type": "code",
   "execution_count": 2,
   "id": "31115f34-059b-4e55-9af0-d654e21069bc",
   "metadata": {},
   "outputs": [
    {
     "name": "stdout",
     "output_type": "stream",
     "text": [
      "/sise/liorrk-group/OrDanOfir/NLP\n"
     ]
    }
   ],
   "source": [
    "!pwd"
   ]
  },
  {
   "cell_type": "code",
   "execution_count": 3,
   "id": "a367d965-3185-43e5-934e-57f2e31935bc",
   "metadata": {},
   "outputs": [],
   "source": [
    "def get_ensemble_score(pkl,ensemble_name):\n",
    "    group = []\n",
    "    type_mode = []\n",
    "    Score = []\n",
    "    Names = []\n",
    "    for p in pkl:\n",
    "        if \"small\" in p:\n",
    "            n = \"small\"\n",
    "        elif \"large\" in p:\n",
    "            n = \"large\"\n",
    "        else:\n",
    "            n = \"base\"\n",
    "        type_mode.append(n)\n",
    "        name=p.split(\"/\")[1]\n",
    "        df=pd.read_pickle(p)\n",
    "        mae,rmse = mean_absolute_error(df['label_mean'],df['pred_label_mean'])*4,np.sqrt(mean_squared_error(df['label_mean'],df['pred_label_mean']))*4\n",
    "        \n",
    "        auc,acc = roc_auc_score((df['label_mean']>0.5).astype(int),df['pred_label_mean']),accuracy_score((df['label_mean']>0.5).astype(int),df['pred_label_mean']>0.6)\n",
    "        \n",
    "        r2 = r2_score(df['label_mean'],df['pred_label_mean'])\n",
    "        X = df[['pred_label_mean']].values\n",
    "        y = df['label_mean'].values\n",
    "        x = sm.add_constant(X)\n",
    "        model = sm.OLS(y, X).fit()\n",
    "        p_value = model.f_pvalue\n",
    "        group.append(df['pred_label_mean'].tolist())\n",
    "        Score.append([mae,rmse,p_value,r2,auc,acc])\n",
    "        Names.append(name)\n",
    "    RMSE = np.sqrt(mean_squared_error(np.array(group).mean(0), df['label_mean'].values))*4\n",
    "    MAE = mean_absolute_error(np.array(group).mean(0), df['label_mean'].values)*4\n",
    "    r2 = r2_score(df['label_mean'],np.array(group).mean(0))\n",
    "    \n",
    "    auc,acc = roc_auc_score((df['label_mean']>0.5).astype(int),np.array(group).mean(0)),accuracy_score((df['label_mean']>0.5).astype(int),np.array(group).mean(0)>0.6)\n",
    "    \n",
    "    \n",
    "    \n",
    "    Score.append([MAE,RMSE,0,r2,auc,acc])\n",
    "    Names.append(\"ensemble\")\n",
    "    type_mode.append(\"ensemble\")\n",
    "    base_df = pd.DataFrame(Score,columns=['mae','rmse','p_vlaue','r2','auc','acc'])\n",
    "    base_df['model'] = Names\n",
    "    base_df['type_mode'] = type_mode\n",
    "    base_df['exp'] = [row.split(\"/\")[0] for row in pkl] + [ensemble_name]\n",
    "    base_df\n",
    "    return group,type_mode,y,Score,Names,base_df"
   ]
  },
  {
   "cell_type": "markdown",
   "id": "5ba98a9e-c93d-4dae-b7e3-7c31b3c25b8a",
   "metadata": {},
   "source": [
    "# baseline ensemble"
   ]
  },
  {
   "cell_type": "code",
   "execution_count": 4,
   "id": "11f38454-d0de-405a-b738-df404ef2ff46",
   "metadata": {},
   "outputs": [
    {
     "data": {
      "text/html": [
       "<div>\n",
       "<style scoped>\n",
       "    .dataframe tbody tr th:only-of-type {\n",
       "        vertical-align: middle;\n",
       "    }\n",
       "\n",
       "    .dataframe tbody tr th {\n",
       "        vertical-align: top;\n",
       "    }\n",
       "\n",
       "    .dataframe thead th {\n",
       "        text-align: right;\n",
       "    }\n",
       "</style>\n",
       "<table border=\"1\" class=\"dataframe\">\n",
       "  <thead>\n",
       "    <tr style=\"text-align: right;\">\n",
       "      <th></th>\n",
       "      <th>mae</th>\n",
       "      <th>rmse</th>\n",
       "      <th>p_vlaue</th>\n",
       "      <th>r2</th>\n",
       "      <th>auc</th>\n",
       "      <th>acc</th>\n",
       "      <th>model</th>\n",
       "      <th>type_mode</th>\n",
       "      <th>exp</th>\n",
       "    </tr>\n",
       "  </thead>\n",
       "  <tbody>\n",
       "    <tr>\n",
       "      <th>0</th>\n",
       "      <td>0.651327</td>\n",
       "      <td>0.838516</td>\n",
       "      <td>0.0</td>\n",
       "      <td>0.519785</td>\n",
       "      <td>0.862419</td>\n",
       "      <td>0.794684</td>\n",
       "      <td>Narrativaai.deberta-v3-small-finetuned-hate_sp...</td>\n",
       "      <td>small</td>\n",
       "      <td>outputs_baseline_reg</td>\n",
       "    </tr>\n",
       "    <tr>\n",
       "      <th>1</th>\n",
       "      <td>0.647970</td>\n",
       "      <td>0.831309</td>\n",
       "      <td>0.0</td>\n",
       "      <td>0.528006</td>\n",
       "      <td>0.868107</td>\n",
       "      <td>0.792214</td>\n",
       "      <td>microsoft.deberta-v3-base</td>\n",
       "      <td>base</td>\n",
       "      <td>outputs_baseline_reg</td>\n",
       "    </tr>\n",
       "    <tr>\n",
       "      <th>2</th>\n",
       "      <td>0.621249</td>\n",
       "      <td>0.794864</td>\n",
       "      <td>0.0</td>\n",
       "      <td>0.568482</td>\n",
       "      <td>0.876917</td>\n",
       "      <td>0.800810</td>\n",
       "      <td>microsoft.deberta-v3-large</td>\n",
       "      <td>large</td>\n",
       "      <td>outputs_baseline_reg</td>\n",
       "    </tr>\n",
       "    <tr>\n",
       "      <th>3</th>\n",
       "      <td>0.609520</td>\n",
       "      <td>0.781540</td>\n",
       "      <td>0.0</td>\n",
       "      <td>0.582828</td>\n",
       "      <td>0.881757</td>\n",
       "      <td>0.805849</td>\n",
       "      <td>ensemble</td>\n",
       "      <td>ensemble</td>\n",
       "      <td>outputs_baseline_reg</td>\n",
       "    </tr>\n",
       "  </tbody>\n",
       "</table>\n",
       "</div>"
      ],
      "text/plain": [
       "        mae      rmse  p_vlaue        r2       auc       acc  \\\n",
       "0  0.651327  0.838516      0.0  0.519785  0.862419  0.794684   \n",
       "1  0.647970  0.831309      0.0  0.528006  0.868107  0.792214   \n",
       "2  0.621249  0.794864      0.0  0.568482  0.876917  0.800810   \n",
       "3  0.609520  0.781540      0.0  0.582828  0.881757  0.805849   \n",
       "\n",
       "                                               model type_mode  \\\n",
       "0  Narrativaai.deberta-v3-small-finetuned-hate_sp...     small   \n",
       "1                          microsoft.deberta-v3-base      base   \n",
       "2                         microsoft.deberta-v3-large     large   \n",
       "3                                           ensemble  ensemble   \n",
       "\n",
       "                    exp  \n",
       "0  outputs_baseline_reg  \n",
       "1  outputs_baseline_reg  \n",
       "2  outputs_baseline_reg  \n",
       "3  outputs_baseline_reg  "
      ]
     },
     "execution_count": 4,
     "metadata": {},
     "output_type": "execute_result"
    }
   ],
   "source": [
    "pkl = [row for row in glob.glob(\"outputs_baseline_reg/*/*.pkl\") if \"_reg\" in row]\n",
    "group,type_mode,y,Score,Names,base_df = get_ensemble_score(pkl,ensemble_name='outputs_baseline_reg')\n",
    "base_df"
   ]
  },
  {
   "cell_type": "markdown",
   "id": "8b5cacd1-f49f-417f-ba17-6e599565074d",
   "metadata": {},
   "source": [
    "# toxigen_backtranslate ensemble"
   ]
  },
  {
   "cell_type": "code",
   "execution_count": 5,
   "id": "8761bf32-c121-47ec-b4f2-92e3118321bd",
   "metadata": {},
   "outputs": [
    {
     "data": {
      "text/html": [
       "<div>\n",
       "<style scoped>\n",
       "    .dataframe tbody tr th:only-of-type {\n",
       "        vertical-align: middle;\n",
       "    }\n",
       "\n",
       "    .dataframe tbody tr th {\n",
       "        vertical-align: top;\n",
       "    }\n",
       "\n",
       "    .dataframe thead th {\n",
       "        text-align: right;\n",
       "    }\n",
       "</style>\n",
       "<table border=\"1\" class=\"dataframe\">\n",
       "  <thead>\n",
       "    <tr style=\"text-align: right;\">\n",
       "      <th></th>\n",
       "      <th>mae</th>\n",
       "      <th>rmse</th>\n",
       "      <th>p_vlaue</th>\n",
       "      <th>r2</th>\n",
       "      <th>auc</th>\n",
       "      <th>acc</th>\n",
       "      <th>model</th>\n",
       "      <th>type_mode</th>\n",
       "      <th>exp</th>\n",
       "    </tr>\n",
       "  </thead>\n",
       "  <tbody>\n",
       "    <tr>\n",
       "      <th>0</th>\n",
       "      <td>0.635137</td>\n",
       "      <td>0.822235</td>\n",
       "      <td>0.0</td>\n",
       "      <td>0.538252</td>\n",
       "      <td>0.867417</td>\n",
       "      <td>0.792511</td>\n",
       "      <td>Narrativaai.deberta-v3-small-finetuned-hate_sp...</td>\n",
       "      <td>small</td>\n",
       "      <td>outputs_toxigen_backtranslate_reg</td>\n",
       "    </tr>\n",
       "    <tr>\n",
       "      <th>1</th>\n",
       "      <td>0.620157</td>\n",
       "      <td>0.803247</td>\n",
       "      <td>0.0</td>\n",
       "      <td>0.559333</td>\n",
       "      <td>0.874149</td>\n",
       "      <td>0.795771</td>\n",
       "      <td>microsoft.deberta-v3-base</td>\n",
       "      <td>base</td>\n",
       "      <td>outputs_toxigen_backtranslate_reg</td>\n",
       "    </tr>\n",
       "    <tr>\n",
       "      <th>2</th>\n",
       "      <td>0.618794</td>\n",
       "      <td>0.795761</td>\n",
       "      <td>0.0</td>\n",
       "      <td>0.567509</td>\n",
       "      <td>0.877914</td>\n",
       "      <td>0.802885</td>\n",
       "      <td>microsoft.deberta-v3-large</td>\n",
       "      <td>large</td>\n",
       "      <td>outputs_toxigen_backtranslate_reg</td>\n",
       "    </tr>\n",
       "    <tr>\n",
       "      <th>3</th>\n",
       "      <td>0.604044</td>\n",
       "      <td>0.776980</td>\n",
       "      <td>0.0</td>\n",
       "      <td>0.587682</td>\n",
       "      <td>0.883249</td>\n",
       "      <td>0.802391</td>\n",
       "      <td>ensemble</td>\n",
       "      <td>ensemble</td>\n",
       "      <td>outputs_toxigen_backtranslate_reg</td>\n",
       "    </tr>\n",
       "  </tbody>\n",
       "</table>\n",
       "</div>"
      ],
      "text/plain": [
       "        mae      rmse  p_vlaue        r2       auc       acc  \\\n",
       "0  0.635137  0.822235      0.0  0.538252  0.867417  0.792511   \n",
       "1  0.620157  0.803247      0.0  0.559333  0.874149  0.795771   \n",
       "2  0.618794  0.795761      0.0  0.567509  0.877914  0.802885   \n",
       "3  0.604044  0.776980      0.0  0.587682  0.883249  0.802391   \n",
       "\n",
       "                                               model type_mode  \\\n",
       "0  Narrativaai.deberta-v3-small-finetuned-hate_sp...     small   \n",
       "1                          microsoft.deberta-v3-base      base   \n",
       "2                         microsoft.deberta-v3-large     large   \n",
       "3                                           ensemble  ensemble   \n",
       "\n",
       "                                 exp  \n",
       "0  outputs_toxigen_backtranslate_reg  \n",
       "1  outputs_toxigen_backtranslate_reg  \n",
       "2  outputs_toxigen_backtranslate_reg  \n",
       "3  outputs_toxigen_backtranslate_reg  "
      ]
     },
     "execution_count": 5,
     "metadata": {},
     "output_type": "execute_result"
    }
   ],
   "source": [
    "pkl = [row for row in glob.glob(\"outputs_toxigen_backtranslate_reg/*/*.pkl\") if \"_reg\" in row]\n",
    "group,type_mode,y,Score,Names,toxigen_df = get_ensemble_score(pkl,ensemble_name='outputs_toxigen_backtranslate_reg')\n",
    "toxigen_df"
   ]
  },
  {
   "cell_type": "markdown",
   "id": "e6810de0-d216-45df-a639-8c96ef1e7eca",
   "metadata": {},
   "source": [
    "# backtranslate ensemble"
   ]
  },
  {
   "cell_type": "code",
   "execution_count": 6,
   "id": "6b93f729-f675-4504-8889-39cc649c1511",
   "metadata": {},
   "outputs": [
    {
     "data": {
      "text/html": [
       "<div>\n",
       "<style scoped>\n",
       "    .dataframe tbody tr th:only-of-type {\n",
       "        vertical-align: middle;\n",
       "    }\n",
       "\n",
       "    .dataframe tbody tr th {\n",
       "        vertical-align: top;\n",
       "    }\n",
       "\n",
       "    .dataframe thead th {\n",
       "        text-align: right;\n",
       "    }\n",
       "</style>\n",
       "<table border=\"1\" class=\"dataframe\">\n",
       "  <thead>\n",
       "    <tr style=\"text-align: right;\">\n",
       "      <th></th>\n",
       "      <th>mae</th>\n",
       "      <th>rmse</th>\n",
       "      <th>p_vlaue</th>\n",
       "      <th>r2</th>\n",
       "      <th>auc</th>\n",
       "      <th>acc</th>\n",
       "      <th>model</th>\n",
       "      <th>type_mode</th>\n",
       "      <th>exp</th>\n",
       "    </tr>\n",
       "  </thead>\n",
       "  <tbody>\n",
       "    <tr>\n",
       "      <th>0</th>\n",
       "      <td>0.639713</td>\n",
       "      <td>0.828003</td>\n",
       "      <td>0.0</td>\n",
       "      <td>0.531751</td>\n",
       "      <td>0.865616</td>\n",
       "      <td>0.791029</td>\n",
       "      <td>Narrativaai.deberta-v3-small-finetuned-hate_sp...</td>\n",
       "      <td>small</td>\n",
       "      <td>outputs_backtranslate_reg</td>\n",
       "    </tr>\n",
       "    <tr>\n",
       "      <th>1</th>\n",
       "      <td>0.636930</td>\n",
       "      <td>0.815290</td>\n",
       "      <td>0.0</td>\n",
       "      <td>0.546020</td>\n",
       "      <td>0.871365</td>\n",
       "      <td>0.793499</td>\n",
       "      <td>microsoft.deberta-v3-base</td>\n",
       "      <td>base</td>\n",
       "      <td>outputs_backtranslate_reg</td>\n",
       "    </tr>\n",
       "    <tr>\n",
       "      <th>2</th>\n",
       "      <td>0.614451</td>\n",
       "      <td>0.792086</td>\n",
       "      <td>0.0</td>\n",
       "      <td>0.571494</td>\n",
       "      <td>0.877972</td>\n",
       "      <td>0.804268</td>\n",
       "      <td>microsoft.deberta-v3-large</td>\n",
       "      <td>large</td>\n",
       "      <td>outputs_backtranslate_reg</td>\n",
       "    </tr>\n",
       "    <tr>\n",
       "      <th>3</th>\n",
       "      <td>0.604009</td>\n",
       "      <td>0.776581</td>\n",
       "      <td>0.0</td>\n",
       "      <td>0.588105</td>\n",
       "      <td>0.883013</td>\n",
       "      <td>0.804664</td>\n",
       "      <td>ensemble</td>\n",
       "      <td>ensemble</td>\n",
       "      <td>outputs_backtranslate_reg</td>\n",
       "    </tr>\n",
       "  </tbody>\n",
       "</table>\n",
       "</div>"
      ],
      "text/plain": [
       "        mae      rmse  p_vlaue        r2       auc       acc  \\\n",
       "0  0.639713  0.828003      0.0  0.531751  0.865616  0.791029   \n",
       "1  0.636930  0.815290      0.0  0.546020  0.871365  0.793499   \n",
       "2  0.614451  0.792086      0.0  0.571494  0.877972  0.804268   \n",
       "3  0.604009  0.776581      0.0  0.588105  0.883013  0.804664   \n",
       "\n",
       "                                               model type_mode  \\\n",
       "0  Narrativaai.deberta-v3-small-finetuned-hate_sp...     small   \n",
       "1                          microsoft.deberta-v3-base      base   \n",
       "2                         microsoft.deberta-v3-large     large   \n",
       "3                                           ensemble  ensemble   \n",
       "\n",
       "                         exp  \n",
       "0  outputs_backtranslate_reg  \n",
       "1  outputs_backtranslate_reg  \n",
       "2  outputs_backtranslate_reg  \n",
       "3  outputs_backtranslate_reg  "
      ]
     },
     "execution_count": 6,
     "metadata": {},
     "output_type": "execute_result"
    }
   ],
   "source": [
    "pkl = [row for row in glob.glob(\"outputs_backtranslate_reg/*/*.pkl\") if \"_reg\" in row]\n",
    "group,type_mode,y,Score,Names,backtranslate_df = get_ensemble_score(pkl,ensemble_name='outputs_backtranslate_reg')\n",
    "backtranslate_df"
   ]
  },
  {
   "cell_type": "markdown",
   "id": "6a06d858-d979-4770-81c9-3202890665af",
   "metadata": {},
   "source": [
    "# ensemble all models"
   ]
  },
  {
   "cell_type": "code",
   "execution_count": 7,
   "id": "94cbdedc-c016-425a-a837-6f8e828f836d",
   "metadata": {},
   "outputs": [
    {
     "data": {
      "text/html": [
       "<div>\n",
       "<style scoped>\n",
       "    .dataframe tbody tr th:only-of-type {\n",
       "        vertical-align: middle;\n",
       "    }\n",
       "\n",
       "    .dataframe tbody tr th {\n",
       "        vertical-align: top;\n",
       "    }\n",
       "\n",
       "    .dataframe thead th {\n",
       "        text-align: right;\n",
       "    }\n",
       "</style>\n",
       "<table border=\"1\" class=\"dataframe\">\n",
       "  <thead>\n",
       "    <tr style=\"text-align: right;\">\n",
       "      <th></th>\n",
       "      <th>mae</th>\n",
       "      <th>rmse</th>\n",
       "      <th>p_vlaue</th>\n",
       "      <th>r2</th>\n",
       "      <th>auc</th>\n",
       "      <th>acc</th>\n",
       "      <th>model</th>\n",
       "      <th>type_mode</th>\n",
       "      <th>exp</th>\n",
       "    </tr>\n",
       "  </thead>\n",
       "  <tbody>\n",
       "    <tr>\n",
       "      <th>9</th>\n",
       "      <td>0.597477</td>\n",
       "      <td>0.766629</td>\n",
       "      <td>0.0</td>\n",
       "      <td>0.598595</td>\n",
       "      <td>0.886558</td>\n",
       "      <td>0.808023</td>\n",
       "      <td>ensemble</td>\n",
       "      <td>ensemble</td>\n",
       "      <td>all</td>\n",
       "    </tr>\n",
       "  </tbody>\n",
       "</table>\n",
       "</div>"
      ],
      "text/plain": [
       "        mae      rmse  p_vlaue        r2       auc       acc     model  \\\n",
       "9  0.597477  0.766629      0.0  0.598595  0.886558  0.808023  ensemble   \n",
       "\n",
       "  type_mode  exp  \n",
       "9  ensemble  all  "
      ]
     },
     "execution_count": 7,
     "metadata": {},
     "output_type": "execute_result"
    }
   ],
   "source": [
    "pkl = [row for row in glob.glob(\"*/*/*.pkl\") if \"_reg\" in row]\n",
    "group,type_mode,y,Score,Names,all_df = get_ensemble_score(pkl,ensemble_name='all')\n",
    "all_df = all_df[all_df.model=='ensemble']\n",
    "all_df"
   ]
  },
  {
   "cell_type": "code",
   "execution_count": 8,
   "id": "c21684c0-b89f-4c90-bfec-c40c1a282ca3",
   "metadata": {},
   "outputs": [
    {
     "data": {
      "text/html": [
       "<div>\n",
       "<style scoped>\n",
       "    .dataframe tbody tr th:only-of-type {\n",
       "        vertical-align: middle;\n",
       "    }\n",
       "\n",
       "    .dataframe tbody tr th {\n",
       "        vertical-align: top;\n",
       "    }\n",
       "\n",
       "    .dataframe thead th {\n",
       "        text-align: right;\n",
       "    }\n",
       "</style>\n",
       "<table border=\"1\" class=\"dataframe\">\n",
       "  <thead>\n",
       "    <tr style=\"text-align: right;\">\n",
       "      <th></th>\n",
       "      <th>mae</th>\n",
       "      <th>rmse</th>\n",
       "      <th>p_vlaue</th>\n",
       "      <th>r2</th>\n",
       "      <th>auc</th>\n",
       "      <th>acc</th>\n",
       "      <th>model</th>\n",
       "      <th>type_mode</th>\n",
       "      <th>exp</th>\n",
       "    </tr>\n",
       "  </thead>\n",
       "  <tbody>\n",
       "    <tr>\n",
       "      <th>0</th>\n",
       "      <td>0.651327</td>\n",
       "      <td>0.838516</td>\n",
       "      <td>0.0</td>\n",
       "      <td>0.519785</td>\n",
       "      <td>0.862419</td>\n",
       "      <td>0.794684</td>\n",
       "      <td>Narrativaai.deberta-v3-small-finetuned-hate_sp...</td>\n",
       "      <td>small</td>\n",
       "      <td>outputs_baseline_reg</td>\n",
       "    </tr>\n",
       "    <tr>\n",
       "      <th>1</th>\n",
       "      <td>0.647970</td>\n",
       "      <td>0.831309</td>\n",
       "      <td>0.0</td>\n",
       "      <td>0.528006</td>\n",
       "      <td>0.868107</td>\n",
       "      <td>0.792214</td>\n",
       "      <td>microsoft.deberta-v3-base</td>\n",
       "      <td>base</td>\n",
       "      <td>outputs_baseline_reg</td>\n",
       "    </tr>\n",
       "    <tr>\n",
       "      <th>2</th>\n",
       "      <td>0.621249</td>\n",
       "      <td>0.794864</td>\n",
       "      <td>0.0</td>\n",
       "      <td>0.568482</td>\n",
       "      <td>0.876917</td>\n",
       "      <td>0.800810</td>\n",
       "      <td>microsoft.deberta-v3-large</td>\n",
       "      <td>large</td>\n",
       "      <td>outputs_baseline_reg</td>\n",
       "    </tr>\n",
       "    <tr>\n",
       "      <th>3</th>\n",
       "      <td>0.609520</td>\n",
       "      <td>0.781540</td>\n",
       "      <td>0.0</td>\n",
       "      <td>0.582828</td>\n",
       "      <td>0.881757</td>\n",
       "      <td>0.805849</td>\n",
       "      <td>ensemble</td>\n",
       "      <td>ensemble</td>\n",
       "      <td>outputs_baseline_reg</td>\n",
       "    </tr>\n",
       "    <tr>\n",
       "      <th>0</th>\n",
       "      <td>0.635137</td>\n",
       "      <td>0.822235</td>\n",
       "      <td>0.0</td>\n",
       "      <td>0.538252</td>\n",
       "      <td>0.867417</td>\n",
       "      <td>0.792511</td>\n",
       "      <td>Narrativaai.deberta-v3-small-finetuned-hate_sp...</td>\n",
       "      <td>small</td>\n",
       "      <td>outputs_toxigen_backtranslate_reg</td>\n",
       "    </tr>\n",
       "    <tr>\n",
       "      <th>1</th>\n",
       "      <td>0.620157</td>\n",
       "      <td>0.803247</td>\n",
       "      <td>0.0</td>\n",
       "      <td>0.559333</td>\n",
       "      <td>0.874149</td>\n",
       "      <td>0.795771</td>\n",
       "      <td>microsoft.deberta-v3-base</td>\n",
       "      <td>base</td>\n",
       "      <td>outputs_toxigen_backtranslate_reg</td>\n",
       "    </tr>\n",
       "    <tr>\n",
       "      <th>2</th>\n",
       "      <td>0.618794</td>\n",
       "      <td>0.795761</td>\n",
       "      <td>0.0</td>\n",
       "      <td>0.567509</td>\n",
       "      <td>0.877914</td>\n",
       "      <td>0.802885</td>\n",
       "      <td>microsoft.deberta-v3-large</td>\n",
       "      <td>large</td>\n",
       "      <td>outputs_toxigen_backtranslate_reg</td>\n",
       "    </tr>\n",
       "    <tr>\n",
       "      <th>3</th>\n",
       "      <td>0.604044</td>\n",
       "      <td>0.776980</td>\n",
       "      <td>0.0</td>\n",
       "      <td>0.587682</td>\n",
       "      <td>0.883249</td>\n",
       "      <td>0.802391</td>\n",
       "      <td>ensemble</td>\n",
       "      <td>ensemble</td>\n",
       "      <td>outputs_toxigen_backtranslate_reg</td>\n",
       "    </tr>\n",
       "    <tr>\n",
       "      <th>0</th>\n",
       "      <td>0.639713</td>\n",
       "      <td>0.828003</td>\n",
       "      <td>0.0</td>\n",
       "      <td>0.531751</td>\n",
       "      <td>0.865616</td>\n",
       "      <td>0.791029</td>\n",
       "      <td>Narrativaai.deberta-v3-small-finetuned-hate_sp...</td>\n",
       "      <td>small</td>\n",
       "      <td>outputs_backtranslate_reg</td>\n",
       "    </tr>\n",
       "    <tr>\n",
       "      <th>1</th>\n",
       "      <td>0.636930</td>\n",
       "      <td>0.815290</td>\n",
       "      <td>0.0</td>\n",
       "      <td>0.546020</td>\n",
       "      <td>0.871365</td>\n",
       "      <td>0.793499</td>\n",
       "      <td>microsoft.deberta-v3-base</td>\n",
       "      <td>base</td>\n",
       "      <td>outputs_backtranslate_reg</td>\n",
       "    </tr>\n",
       "    <tr>\n",
       "      <th>2</th>\n",
       "      <td>0.614451</td>\n",
       "      <td>0.792086</td>\n",
       "      <td>0.0</td>\n",
       "      <td>0.571494</td>\n",
       "      <td>0.877972</td>\n",
       "      <td>0.804268</td>\n",
       "      <td>microsoft.deberta-v3-large</td>\n",
       "      <td>large</td>\n",
       "      <td>outputs_backtranslate_reg</td>\n",
       "    </tr>\n",
       "    <tr>\n",
       "      <th>3</th>\n",
       "      <td>0.604009</td>\n",
       "      <td>0.776581</td>\n",
       "      <td>0.0</td>\n",
       "      <td>0.588105</td>\n",
       "      <td>0.883013</td>\n",
       "      <td>0.804664</td>\n",
       "      <td>ensemble</td>\n",
       "      <td>ensemble</td>\n",
       "      <td>outputs_backtranslate_reg</td>\n",
       "    </tr>\n",
       "    <tr>\n",
       "      <th>9</th>\n",
       "      <td>0.597477</td>\n",
       "      <td>0.766629</td>\n",
       "      <td>0.0</td>\n",
       "      <td>0.598595</td>\n",
       "      <td>0.886558</td>\n",
       "      <td>0.808023</td>\n",
       "      <td>ensemble</td>\n",
       "      <td>ensemble</td>\n",
       "      <td>all</td>\n",
       "    </tr>\n",
       "  </tbody>\n",
       "</table>\n",
       "</div>"
      ],
      "text/plain": [
       "        mae      rmse  p_vlaue        r2       auc       acc  \\\n",
       "0  0.651327  0.838516      0.0  0.519785  0.862419  0.794684   \n",
       "1  0.647970  0.831309      0.0  0.528006  0.868107  0.792214   \n",
       "2  0.621249  0.794864      0.0  0.568482  0.876917  0.800810   \n",
       "3  0.609520  0.781540      0.0  0.582828  0.881757  0.805849   \n",
       "0  0.635137  0.822235      0.0  0.538252  0.867417  0.792511   \n",
       "1  0.620157  0.803247      0.0  0.559333  0.874149  0.795771   \n",
       "2  0.618794  0.795761      0.0  0.567509  0.877914  0.802885   \n",
       "3  0.604044  0.776980      0.0  0.587682  0.883249  0.802391   \n",
       "0  0.639713  0.828003      0.0  0.531751  0.865616  0.791029   \n",
       "1  0.636930  0.815290      0.0  0.546020  0.871365  0.793499   \n",
       "2  0.614451  0.792086      0.0  0.571494  0.877972  0.804268   \n",
       "3  0.604009  0.776581      0.0  0.588105  0.883013  0.804664   \n",
       "9  0.597477  0.766629      0.0  0.598595  0.886558  0.808023   \n",
       "\n",
       "                                               model type_mode  \\\n",
       "0  Narrativaai.deberta-v3-small-finetuned-hate_sp...     small   \n",
       "1                          microsoft.deberta-v3-base      base   \n",
       "2                         microsoft.deberta-v3-large     large   \n",
       "3                                           ensemble  ensemble   \n",
       "0  Narrativaai.deberta-v3-small-finetuned-hate_sp...     small   \n",
       "1                          microsoft.deberta-v3-base      base   \n",
       "2                         microsoft.deberta-v3-large     large   \n",
       "3                                           ensemble  ensemble   \n",
       "0  Narrativaai.deberta-v3-small-finetuned-hate_sp...     small   \n",
       "1                          microsoft.deberta-v3-base      base   \n",
       "2                         microsoft.deberta-v3-large     large   \n",
       "3                                           ensemble  ensemble   \n",
       "9                                           ensemble  ensemble   \n",
       "\n",
       "                                 exp  \n",
       "0               outputs_baseline_reg  \n",
       "1               outputs_baseline_reg  \n",
       "2               outputs_baseline_reg  \n",
       "3               outputs_baseline_reg  \n",
       "0  outputs_toxigen_backtranslate_reg  \n",
       "1  outputs_toxigen_backtranslate_reg  \n",
       "2  outputs_toxigen_backtranslate_reg  \n",
       "3  outputs_toxigen_backtranslate_reg  \n",
       "0          outputs_backtranslate_reg  \n",
       "1          outputs_backtranslate_reg  \n",
       "2          outputs_backtranslate_reg  \n",
       "3          outputs_backtranslate_reg  \n",
       "9                                all  "
      ]
     },
     "execution_count": 8,
     "metadata": {},
     "output_type": "execute_result"
    }
   ],
   "source": [
    "df_sum = pd.concat([base_df,toxigen_df,backtranslate_df,all_df])\n",
    "df_sum"
   ]
  },
  {
   "cell_type": "code",
   "execution_count": 9,
   "id": "6700c6d9-6a71-4a2d-9eb3-bd2a9a3ddc9c",
   "metadata": {},
   "outputs": [
    {
     "data": {
      "image/png": "[encoded data removed]",
      "text/plain": [
       "<Figure size 720x360 with 1 Axes>"
      ]
     },
     "metadata": {
      "needs_background": "light"
     },
     "output_type": "display_data"
    }
   ],
   "source": [
    "plt.figure(figsize=[10,5])\n",
    "A = abs(np.array(group).mean(0)-y)*4\n",
    "plt.hist(A,density=True,bins=100)\n",
    "plt.hist(A,density=True, cumulative=True, label='CDF', histtype='step',color='red')\n",
    "plt.scatter([0.5],[0.65])\n",
    "plt.annotate(\"0.65\",[0.5,0.65])\n",
    "plt.scatter([1],[0.82])\n",
    "plt.annotate(\"0.82\",[1,0.82])\n",
    "plt.scatter([1.5],[0.965])\n",
    "plt.annotate(\"0.965\",[1.5,0.965])\n",
    "plt.title(\"MAE histogram\")\n",
    "plt.show()"
   ]
  },
  {
   "cell_type": "code",
   "execution_count": 10,
   "id": "0e4d66d0-c3bf-4243-b56b-13eadc9856f6",
   "metadata": {},
   "outputs": [
    {
     "data": {
      "image/png": "[encoded data removed]",
      "text/plain": [
       "<Figure size 720x360 with 1 Axes>"
      ]
     },
     "metadata": {
      "needs_background": "light"
     },
     "output_type": "display_data"
    }
   ],
   "source": [
    "plt.figure(figsize=[10,5])\n",
    "A = abs(np.array(group)[5]-np.array(group)[0])*4\n",
    "plt.hist(A,density=True,bins=100)\n",
    "plt.hist(A,density=True, cumulative=True, label='CDF', histtype='step',color='red')\n",
    "plt.title(\"MAE histogram\")\n",
    "plt.show()"
   ]
  },
  {
   "cell_type": "code",
   "execution_count": 11,
   "id": "56a5342c-f08f-4438-a7c8-15a66436777a",
   "metadata": {},
   "outputs": [
    {
     "data": {
      "image/png": "[encoded data removed]",
      "text/plain": [
       "<Figure size 720x360 with 1 Axes>"
      ]
     },
     "metadata": {
      "needs_background": "light"
     },
     "output_type": "display_data"
    }
   ],
   "source": [
    "plt.figure(figsize=[10,5])\n",
    "for g in group[2:5]:\n",
    "    plt.hist(g,density=True,bins=100,alpha=0.5)\n"
   ]
  },
  {
   "cell_type": "code",
   "execution_count": 12,
   "id": "9ce08307-210d-4bbe-bcfc-fdf9a79faab2",
   "metadata": {},
   "outputs": [
    {
     "data": {
      "text/plain": [
       "(array([ 14.,  54., 154., 343., 568., 734., 703., 455., 162.,  37.]),\n",
       " array([0.17224118, 0.57519072, 0.97814027, 1.38108981, 1.78403935,\n",
       "        2.18698889, 2.58993844, 2.99288798, 3.39583752, 3.79878707,\n",
       "        4.20173661]),\n",
       " <BarContainer object of 10 artists>)"
      ]
     },
     "execution_count": 12,
     "metadata": {},
     "output_type": "execute_result"
    },
    {
     "data": {
      "image/png": "[encoded data removed]",
      "text/plain": [
       "<Figure size 432x288 with 1 Axes>"
      ]
     },
     "metadata": {
      "needs_background": "light"
     },
     "output_type": "display_data"
    }
   ],
   "source": [
    "plt.hist(y[np.where(y*4>2)]*4)\n",
    "plt.hist(np.array(group).mean(0)[np.where(y*4>2)]*4,alpha=0.5)"
   ]
  },
  {
   "cell_type": "code",
   "execution_count": 13,
   "id": "8d44ec39-43db-4550-a88b-9ea4231c209b",
   "metadata": {},
   "outputs": [],
   "source": [
    "from sklearn.metrics import PrecisionRecallDisplay"
   ]
  },
  {
   "cell_type": "code",
   "execution_count": 27,
   "id": "4b2f9bc4-29ae-4c93-a947-066ec96368b8",
   "metadata": {},
   "outputs": [
    {
     "data": {
      "text/plain": [
       "'outputs_baseline_reg_small'"
      ]
     },
     "execution_count": 27,
     "metadata": {},
     "output_type": "execute_result"
    }
   ],
   "source": []
  },
  {
   "cell_type": "code",
   "execution_count": 47,
   "id": "b681d1de-a384-412e-b247-19fdb1e364c5",
   "metadata": {},
   "outputs": [
    {
     "data": {
      "image/png": "[encoded data removed]",
      "text/plain": [
       "<Figure size 1080x432 with 1 Axes>"
      ]
     },
     "metadata": {
      "needs_background": "light"
     },
     "output_type": "display_data"
    }
   ],
   "source": [
    "plt.figure(figsize=[15,6])\n",
    "for i,(n,g) in enumerate(zip(Names,group)):\n",
    "    # if \"baseline\" in df_sum.reset_index(drop=True).iloc[i]['exp'].replace(\"outputs_\",\"\").replace(\"reg_\",\"\"):\n",
    "        display = PrecisionRecallDisplay.from_predictions((y>=0.5).astype(int),\n",
    "                                                          g,\n",
    "                                                          name = df_sum.reset_index(drop=True).iloc[i]['exp'].replace(\"outputs_\",\"\").replace(\"reg_\",\"\") +\"-\"+ df_sum.reset_index(drop=True).iloc[i]['type_mode']\n",
    "                                                          ,ax=plt.gca()\n",
    "                                                         )\n",
    "display = PrecisionRecallDisplay.from_predictions((y>=0.5).astype(int),\n",
    "                                                  np.array(group).mean(0),\n",
    "                                                  name = 'ensemble',ax=plt.gca()\n",
    "                                                 )\n",
    "_ = display.ax_.set_title(\"2-class Precision-Recall curve\")"
   ]
  },
  {
   "cell_type": "code",
   "execution_count": 48,
   "id": "769bd873-695e-498d-99d1-177d7d97fa85",
   "metadata": {},
   "outputs": [],
   "source": [
    "# from scipy import stats\n",
    "# stats.friedmanchisquare(group1, group2, group3)"
   ]
  },
  {
   "cell_type": "code",
   "execution_count": null,
   "id": "b322711b-bba4-4739-b1e4-307c1c71c924",
   "metadata": {},
   "outputs": [],
   "source": []
  }
 ],
 "metadata": {
  "kernelspec": {
   "display_name": "Python (mmdet)",
   "language": "python",
   "name": "mmdet"
  },
  "language_info": {
   "codemirror_mode": {
    "name": "ipython",
    "version": 3
   },
   "file_extension": ".py",
   "mimetype": "text/x-python",
   "name": "python",
   "nbconvert_exporter": "python",
   "pygments_lexer": "ipython3",
   "version": "3.7.10"
  }
 },
 "nbformat": 4,
 "nbformat_minor": 5
}
