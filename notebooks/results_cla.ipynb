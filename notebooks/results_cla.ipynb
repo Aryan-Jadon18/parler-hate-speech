{
 "cells": [
  {
   "cell_type": "code",
   "execution_count": 33,
   "id": "232c1c0b-e2dd-43ba-bb90-1b4780fe4165",
   "metadata": {},
   "outputs": [],
   "source": [
    "import pandas as pd\n",
    "from sklearn.metrics import mean_squared_error,mean_absolute_error,r2_score,roc_auc_score,RocCurveDisplay,PrecisionRecallDisplay\n",
    "import numpy as np\n",
    "import glob\n",
    "from scipy.stats import ttest_ind,binom_test\n",
    "import statsmodels.api as sm\n",
    "from scipy import stats\n",
    "from matplotlib import pyplot as plt"
   ]
  },
  {
   "cell_type": "code",
   "execution_count": 2,
   "id": "31115f34-059b-4e55-9af0-d654e21069bc",
   "metadata": {},
   "outputs": [
    {
     "name": "stdout",
     "output_type": "stream",
     "text": [
      "/sise/liorrk-group/OrDanOfir/NLP\n"
     ]
    }
   ],
   "source": [
    "!pwd"
   ]
  },
  {
   "cell_type": "code",
   "execution_count": 3,
   "id": "a367d965-3185-43e5-934e-57f2e31935bc",
   "metadata": {},
   "outputs": [],
   "source": [
    "def get_ensemble_score(pkl,ensemble_name):\n",
    "    group = []\n",
    "    type_mode = []\n",
    "    Score = []\n",
    "    Names = []\n",
    "    for p in pkl:\n",
    "        if \"small\" in p:\n",
    "            n = \"small\"\n",
    "        elif \"large\" in p:\n",
    "            n = \"large\"\n",
    "        else:\n",
    "            n = \"base\"\n",
    "        type_mode.append(n)\n",
    "        name=p.split(\"/\")[1]\n",
    "        df=pd.read_pickle(p)\n",
    "        # mae,rmse = mean_absolute_error(df['label_mean'],df['pred_label_mean'])*4,np.sqrt(mean_squared_error(df['label_mean'],df['pred_label_mean']))*4\n",
    "        mae,rmse = roc_auc_score(df['label_mean'],df['pred_label_mean'])*100,0\n",
    "        r2 = r2_score(df['label_mean'],df['pred_label_mean'])\n",
    "        X = df[['pred_label_mean']].values\n",
    "        y = df['label_mean'].values\n",
    "        x = sm.add_constant(X)\n",
    "        model = sm.OLS(y, X).fit()\n",
    "        p_value = model.f_pvalue\n",
    "        group.append(df['pred_label_mean'].tolist())\n",
    "        Score.append([mae,rmse,p_value,r2])\n",
    "        Names.append(name)\n",
    "    RMSE = roc_auc_score(df['label_mean'].values,np.array(group).mean(0))\n",
    "    MAE = roc_auc_score(df['label_mean'].values,np.array(group).mean(0))*100\n",
    "    r2 = r2_score(df['label_mean'].values,np.array(group).mean(0))\n",
    "    Score.append([MAE,RMSE,0,r2])\n",
    "    Names.append(\"ensemble\")\n",
    "    type_mode.append(\"ensemble\")\n",
    "    base_df = pd.DataFrame(Score,columns=['AUC','rmse','p_vlaue','r2'])\n",
    "    base_df['model'] = Names\n",
    "    base_df['type_mode'] = type_mode\n",
    "    base_df['exp'] = [row.split(\"/\")[0] for row in pkl] + [ensemble_name]\n",
    "    base_df\n",
    "    return group,type_mode,y,Score,Names,base_df"
   ]
  },
  {
   "cell_type": "markdown",
   "id": "5ba98a9e-c93d-4dae-b7e3-7c31b3c25b8a",
   "metadata": {},
   "source": [
    "# baseline ensemble"
   ]
  },
  {
   "cell_type": "code",
   "execution_count": 5,
   "id": "11f38454-d0de-405a-b738-df404ef2ff46",
   "metadata": {},
   "outputs": [
    {
     "data": {
      "text/html": [
       "<div>\n",
       "<style scoped>\n",
       "    .dataframe tbody tr th:only-of-type {\n",
       "        vertical-align: middle;\n",
       "    }\n",
       "\n",
       "    .dataframe tbody tr th {\n",
       "        vertical-align: top;\n",
       "    }\n",
       "\n",
       "    .dataframe thead th {\n",
       "        text-align: right;\n",
       "    }\n",
       "</style>\n",
       "<table border=\"1\" class=\"dataframe\">\n",
       "  <thead>\n",
       "    <tr style=\"text-align: right;\">\n",
       "      <th></th>\n",
       "      <th>AUC</th>\n",
       "      <th>rmse</th>\n",
       "      <th>p_vlaue</th>\n",
       "      <th>r2</th>\n",
       "      <th>model</th>\n",
       "      <th>type_mode</th>\n",
       "      <th>exp</th>\n",
       "    </tr>\n",
       "  </thead>\n",
       "  <tbody>\n",
       "    <tr>\n",
       "      <th>0</th>\n",
       "      <td>79.610363</td>\n",
       "      <td>0.000000</td>\n",
       "      <td>0.0</td>\n",
       "      <td>0.149835</td>\n",
       "      <td>Narrativaai.deberta-v3-small-finetuned-hate_sp...</td>\n",
       "      <td>small</td>\n",
       "      <td>Gab_baseline_cla</td>\n",
       "    </tr>\n",
       "    <tr>\n",
       "      <th>1</th>\n",
       "      <td>81.509907</td>\n",
       "      <td>0.000000</td>\n",
       "      <td>0.0</td>\n",
       "      <td>0.194467</td>\n",
       "      <td>microsoft.deberta-v3-base</td>\n",
       "      <td>base</td>\n",
       "      <td>Gab_baseline_cla</td>\n",
       "    </tr>\n",
       "    <tr>\n",
       "      <th>2</th>\n",
       "      <td>80.942585</td>\n",
       "      <td>0.000000</td>\n",
       "      <td>0.0</td>\n",
       "      <td>0.159039</td>\n",
       "      <td>microsoft.deberta-v3-large</td>\n",
       "      <td>large</td>\n",
       "      <td>Gab_baseline_cla</td>\n",
       "    </tr>\n",
       "    <tr>\n",
       "      <th>3</th>\n",
       "      <td>82.160657</td>\n",
       "      <td>0.821607</td>\n",
       "      <td>0.0</td>\n",
       "      <td>0.201997</td>\n",
       "      <td>ensemble</td>\n",
       "      <td>ensemble</td>\n",
       "      <td>baseline</td>\n",
       "    </tr>\n",
       "  </tbody>\n",
       "</table>\n",
       "</div>"
      ],
      "text/plain": [
       "         AUC      rmse  p_vlaue        r2  \\\n",
       "0  79.610363  0.000000      0.0  0.149835   \n",
       "1  81.509907  0.000000      0.0  0.194467   \n",
       "2  80.942585  0.000000      0.0  0.159039   \n",
       "3  82.160657  0.821607      0.0  0.201997   \n",
       "\n",
       "                                               model type_mode  \\\n",
       "0  Narrativaai.deberta-v3-small-finetuned-hate_sp...     small   \n",
       "1                          microsoft.deberta-v3-base      base   \n",
       "2                         microsoft.deberta-v3-large     large   \n",
       "3                                           ensemble  ensemble   \n",
       "\n",
       "                exp  \n",
       "0  Gab_baseline_cla  \n",
       "1  Gab_baseline_cla  \n",
       "2  Gab_baseline_cla  \n",
       "3          baseline  "
      ]
     },
     "execution_count": 5,
     "metadata": {},
     "output_type": "execute_result"
    }
   ],
   "source": [
    "pkl = [row for row in glob.glob(\"Gab_baseline_cla/*/*.pkl\") if \"_cla\" in row]\n",
    "group,type_mode,y,Score,Names,base_df = get_ensemble_score(pkl,ensemble_name='baseline')\n",
    "base_df"
   ]
  },
  {
   "cell_type": "markdown",
   "id": "8b5cacd1-f49f-417f-ba17-6e599565074d",
   "metadata": {},
   "source": [
    "# toxigen_backtranslate ensemble"
   ]
  },
  {
   "cell_type": "code",
   "execution_count": 6,
   "id": "8761bf32-c121-47ec-b4f2-92e3118321bd",
   "metadata": {},
   "outputs": [],
   "source": [
    "# pkl = [row for row in glob.glob(\"implicit_toxigen_backtranslate_cla/*/*.pkl\") if \"_cla\" in row]\n",
    "# group,type_mode,y,Score,Names,toxigen_df = get_ensemble_score(pkl,ensemble_name='outputs_toxigen_backtranslate_classification')\n",
    "# toxigen_df"
   ]
  },
  {
   "cell_type": "markdown",
   "id": "e6810de0-d216-45df-a639-8c96ef1e7eca",
   "metadata": {},
   "source": [
    "# backtranslate ensemble"
   ]
  },
  {
   "cell_type": "code",
   "execution_count": 7,
   "id": "6b93f729-f675-4504-8889-39cc649c1511",
   "metadata": {},
   "outputs": [
    {
     "data": {
      "text/html": [
       "<div>\n",
       "<style scoped>\n",
       "    .dataframe tbody tr th:only-of-type {\n",
       "        vertical-align: middle;\n",
       "    }\n",
       "\n",
       "    .dataframe tbody tr th {\n",
       "        vertical-align: top;\n",
       "    }\n",
       "\n",
       "    .dataframe thead th {\n",
       "        text-align: right;\n",
       "    }\n",
       "</style>\n",
       "<table border=\"1\" class=\"dataframe\">\n",
       "  <thead>\n",
       "    <tr style=\"text-align: right;\">\n",
       "      <th></th>\n",
       "      <th>AUC</th>\n",
       "      <th>rmse</th>\n",
       "      <th>p_vlaue</th>\n",
       "      <th>r2</th>\n",
       "      <th>model</th>\n",
       "      <th>type_mode</th>\n",
       "      <th>exp</th>\n",
       "    </tr>\n",
       "  </thead>\n",
       "  <tbody>\n",
       "    <tr>\n",
       "      <th>0</th>\n",
       "      <td>80.625763</td>\n",
       "      <td>0.000000</td>\n",
       "      <td>0.0</td>\n",
       "      <td>0.168863</td>\n",
       "      <td>Narrativaai.deberta-v3-small-finetuned-hate_sp...</td>\n",
       "      <td>small</td>\n",
       "      <td>Gab_backtranslate_cla</td>\n",
       "    </tr>\n",
       "    <tr>\n",
       "      <th>1</th>\n",
       "      <td>80.742969</td>\n",
       "      <td>0.000000</td>\n",
       "      <td>0.0</td>\n",
       "      <td>0.170293</td>\n",
       "      <td>Narrativaai.deberta-v3-small-finetuned-hate_sp...</td>\n",
       "      <td>small</td>\n",
       "      <td>Gab_backtranslate_cla</td>\n",
       "    </tr>\n",
       "    <tr>\n",
       "      <th>2</th>\n",
       "      <td>81.931279</td>\n",
       "      <td>0.000000</td>\n",
       "      <td>0.0</td>\n",
       "      <td>0.188162</td>\n",
       "      <td>microsoft.deberta-v3-base</td>\n",
       "      <td>base</td>\n",
       "      <td>Gab_backtranslate_cla</td>\n",
       "    </tr>\n",
       "    <tr>\n",
       "      <th>3</th>\n",
       "      <td>82.086037</td>\n",
       "      <td>0.000000</td>\n",
       "      <td>0.0</td>\n",
       "      <td>0.190622</td>\n",
       "      <td>microsoft.deberta-v3-base</td>\n",
       "      <td>base</td>\n",
       "      <td>Gab_backtranslate_cla</td>\n",
       "    </tr>\n",
       "    <tr>\n",
       "      <th>4</th>\n",
       "      <td>80.338645</td>\n",
       "      <td>0.000000</td>\n",
       "      <td>0.0</td>\n",
       "      <td>0.171013</td>\n",
       "      <td>microsoft.deberta-v3-large</td>\n",
       "      <td>large</td>\n",
       "      <td>Gab_backtranslate_cla</td>\n",
       "    </tr>\n",
       "    <tr>\n",
       "      <th>5</th>\n",
       "      <td>80.108152</td>\n",
       "      <td>0.000000</td>\n",
       "      <td>0.0</td>\n",
       "      <td>0.169394</td>\n",
       "      <td>microsoft.deberta-v3-large</td>\n",
       "      <td>large</td>\n",
       "      <td>Gab_backtranslate_cla</td>\n",
       "    </tr>\n",
       "    <tr>\n",
       "      <th>6</th>\n",
       "      <td>82.550863</td>\n",
       "      <td>0.825509</td>\n",
       "      <td>0.0</td>\n",
       "      <td>0.207469</td>\n",
       "      <td>ensemble</td>\n",
       "      <td>ensemble</td>\n",
       "      <td>backtranslate_classification</td>\n",
       "    </tr>\n",
       "  </tbody>\n",
       "</table>\n",
       "</div>"
      ],
      "text/plain": [
       "         AUC      rmse  p_vlaue        r2  \\\n",
       "0  80.625763  0.000000      0.0  0.168863   \n",
       "1  80.742969  0.000000      0.0  0.170293   \n",
       "2  81.931279  0.000000      0.0  0.188162   \n",
       "3  82.086037  0.000000      0.0  0.190622   \n",
       "4  80.338645  0.000000      0.0  0.171013   \n",
       "5  80.108152  0.000000      0.0  0.169394   \n",
       "6  82.550863  0.825509      0.0  0.207469   \n",
       "\n",
       "                                               model type_mode  \\\n",
       "0  Narrativaai.deberta-v3-small-finetuned-hate_sp...     small   \n",
       "1  Narrativaai.deberta-v3-small-finetuned-hate_sp...     small   \n",
       "2                          microsoft.deberta-v3-base      base   \n",
       "3                          microsoft.deberta-v3-base      base   \n",
       "4                         microsoft.deberta-v3-large     large   \n",
       "5                         microsoft.deberta-v3-large     large   \n",
       "6                                           ensemble  ensemble   \n",
       "\n",
       "                            exp  \n",
       "0         Gab_backtranslate_cla  \n",
       "1         Gab_backtranslate_cla  \n",
       "2         Gab_backtranslate_cla  \n",
       "3         Gab_backtranslate_cla  \n",
       "4         Gab_backtranslate_cla  \n",
       "5         Gab_backtranslate_cla  \n",
       "6  backtranslate_classification  "
      ]
     },
     "execution_count": 7,
     "metadata": {},
     "output_type": "execute_result"
    }
   ],
   "source": [
    "pkl = [row for row in glob.glob(\"Gab_backtranslate_cla/*/*.pkl\") if \"_cla\" in row]\n",
    "group,type_mode,y,Score,Names,backtranslate_df = get_ensemble_score(pkl,ensemble_name='backtranslate_classification')\n",
    "backtranslate_df"
   ]
  },
  {
   "cell_type": "markdown",
   "id": "6a06d858-d979-4770-81c9-3202890665af",
   "metadata": {},
   "source": [
    "# ensemble all models"
   ]
  },
  {
   "cell_type": "code",
   "execution_count": 8,
   "id": "94cbdedc-c016-425a-a837-6f8e828f836d",
   "metadata": {},
   "outputs": [
    {
     "data": {
      "text/html": [
       "<div>\n",
       "<style scoped>\n",
       "    .dataframe tbody tr th:only-of-type {\n",
       "        vertical-align: middle;\n",
       "    }\n",
       "\n",
       "    .dataframe tbody tr th {\n",
       "        vertical-align: top;\n",
       "    }\n",
       "\n",
       "    .dataframe thead th {\n",
       "        text-align: right;\n",
       "    }\n",
       "</style>\n",
       "<table border=\"1\" class=\"dataframe\">\n",
       "  <thead>\n",
       "    <tr style=\"text-align: right;\">\n",
       "      <th></th>\n",
       "      <th>AUC</th>\n",
       "      <th>rmse</th>\n",
       "      <th>p_vlaue</th>\n",
       "      <th>r2</th>\n",
       "      <th>model</th>\n",
       "      <th>type_mode</th>\n",
       "      <th>exp</th>\n",
       "    </tr>\n",
       "  </thead>\n",
       "  <tbody>\n",
       "    <tr>\n",
       "      <th>9</th>\n",
       "      <td>82.593713</td>\n",
       "      <td>0.825937</td>\n",
       "      <td>0.0</td>\n",
       "      <td>0.209025</td>\n",
       "      <td>ensemble</td>\n",
       "      <td>ensemble</td>\n",
       "      <td>all</td>\n",
       "    </tr>\n",
       "  </tbody>\n",
       "</table>\n",
       "</div>"
      ],
      "text/plain": [
       "         AUC      rmse  p_vlaue        r2     model type_mode  exp\n",
       "9  82.593713  0.825937      0.0  0.209025  ensemble  ensemble  all"
      ]
     },
     "execution_count": 8,
     "metadata": {},
     "output_type": "execute_result"
    }
   ],
   "source": [
    "pkl = [row for row in glob.glob(\"Gab*/*/*.pkl\") if \"_cla\" in row]\n",
    "group,type_mode,y,Score,Names,all_df = get_ensemble_score(pkl,ensemble_name='all')\n",
    "all_df = all_df[all_df.model=='ensemble']\n",
    "all_df"
   ]
  },
  {
   "cell_type": "code",
   "execution_count": 9,
   "id": "c21684c0-b89f-4c90-bfec-c40c1a282ca3",
   "metadata": {},
   "outputs": [
    {
     "data": {
      "text/html": [
       "<div>\n",
       "<style scoped>\n",
       "    .dataframe tbody tr th:only-of-type {\n",
       "        vertical-align: middle;\n",
       "    }\n",
       "\n",
       "    .dataframe tbody tr th {\n",
       "        vertical-align: top;\n",
       "    }\n",
       "\n",
       "    .dataframe thead th {\n",
       "        text-align: right;\n",
       "    }\n",
       "</style>\n",
       "<table border=\"1\" class=\"dataframe\">\n",
       "  <thead>\n",
       "    <tr style=\"text-align: right;\">\n",
       "      <th></th>\n",
       "      <th>AUC</th>\n",
       "      <th>rmse</th>\n",
       "      <th>p_vlaue</th>\n",
       "      <th>r2</th>\n",
       "      <th>model</th>\n",
       "      <th>type_mode</th>\n",
       "      <th>exp</th>\n",
       "    </tr>\n",
       "  </thead>\n",
       "  <tbody>\n",
       "    <tr>\n",
       "      <th>0</th>\n",
       "      <td>79.610363</td>\n",
       "      <td>0.000000</td>\n",
       "      <td>0.0</td>\n",
       "      <td>0.149835</td>\n",
       "      <td>Narrativaai.deberta-v3-small-finetuned-hate_sp...</td>\n",
       "      <td>small</td>\n",
       "      <td>Gab_baseline_cla</td>\n",
       "    </tr>\n",
       "    <tr>\n",
       "      <th>1</th>\n",
       "      <td>81.509907</td>\n",
       "      <td>0.000000</td>\n",
       "      <td>0.0</td>\n",
       "      <td>0.194467</td>\n",
       "      <td>microsoft.deberta-v3-base</td>\n",
       "      <td>base</td>\n",
       "      <td>Gab_baseline_cla</td>\n",
       "    </tr>\n",
       "    <tr>\n",
       "      <th>2</th>\n",
       "      <td>80.942585</td>\n",
       "      <td>0.000000</td>\n",
       "      <td>0.0</td>\n",
       "      <td>0.159039</td>\n",
       "      <td>microsoft.deberta-v3-large</td>\n",
       "      <td>large</td>\n",
       "      <td>Gab_baseline_cla</td>\n",
       "    </tr>\n",
       "    <tr>\n",
       "      <th>3</th>\n",
       "      <td>82.160657</td>\n",
       "      <td>0.821607</td>\n",
       "      <td>0.0</td>\n",
       "      <td>0.201997</td>\n",
       "      <td>ensemble</td>\n",
       "      <td>ensemble</td>\n",
       "      <td>baseline</td>\n",
       "    </tr>\n",
       "    <tr>\n",
       "      <th>0</th>\n",
       "      <td>80.625763</td>\n",
       "      <td>0.000000</td>\n",
       "      <td>0.0</td>\n",
       "      <td>0.168863</td>\n",
       "      <td>Narrativaai.deberta-v3-small-finetuned-hate_sp...</td>\n",
       "      <td>small</td>\n",
       "      <td>Gab_backtranslate_cla</td>\n",
       "    </tr>\n",
       "    <tr>\n",
       "      <th>1</th>\n",
       "      <td>80.742969</td>\n",
       "      <td>0.000000</td>\n",
       "      <td>0.0</td>\n",
       "      <td>0.170293</td>\n",
       "      <td>Narrativaai.deberta-v3-small-finetuned-hate_sp...</td>\n",
       "      <td>small</td>\n",
       "      <td>Gab_backtranslate_cla</td>\n",
       "    </tr>\n",
       "    <tr>\n",
       "      <th>2</th>\n",
       "      <td>81.931279</td>\n",
       "      <td>0.000000</td>\n",
       "      <td>0.0</td>\n",
       "      <td>0.188162</td>\n",
       "      <td>microsoft.deberta-v3-base</td>\n",
       "      <td>base</td>\n",
       "      <td>Gab_backtranslate_cla</td>\n",
       "    </tr>\n",
       "    <tr>\n",
       "      <th>3</th>\n",
       "      <td>82.086037</td>\n",
       "      <td>0.000000</td>\n",
       "      <td>0.0</td>\n",
       "      <td>0.190622</td>\n",
       "      <td>microsoft.deberta-v3-base</td>\n",
       "      <td>base</td>\n",
       "      <td>Gab_backtranslate_cla</td>\n",
       "    </tr>\n",
       "    <tr>\n",
       "      <th>4</th>\n",
       "      <td>80.338645</td>\n",
       "      <td>0.000000</td>\n",
       "      <td>0.0</td>\n",
       "      <td>0.171013</td>\n",
       "      <td>microsoft.deberta-v3-large</td>\n",
       "      <td>large</td>\n",
       "      <td>Gab_backtranslate_cla</td>\n",
       "    </tr>\n",
       "    <tr>\n",
       "      <th>5</th>\n",
       "      <td>80.108152</td>\n",
       "      <td>0.000000</td>\n",
       "      <td>0.0</td>\n",
       "      <td>0.169394</td>\n",
       "      <td>microsoft.deberta-v3-large</td>\n",
       "      <td>large</td>\n",
       "      <td>Gab_backtranslate_cla</td>\n",
       "    </tr>\n",
       "    <tr>\n",
       "      <th>6</th>\n",
       "      <td>82.550863</td>\n",
       "      <td>0.825509</td>\n",
       "      <td>0.0</td>\n",
       "      <td>0.207469</td>\n",
       "      <td>ensemble</td>\n",
       "      <td>ensemble</td>\n",
       "      <td>backtranslate_classification</td>\n",
       "    </tr>\n",
       "    <tr>\n",
       "      <th>9</th>\n",
       "      <td>82.593713</td>\n",
       "      <td>0.825937</td>\n",
       "      <td>0.0</td>\n",
       "      <td>0.209025</td>\n",
       "      <td>ensemble</td>\n",
       "      <td>ensemble</td>\n",
       "      <td>all</td>\n",
       "    </tr>\n",
       "  </tbody>\n",
       "</table>\n",
       "</div>"
      ],
      "text/plain": [
       "         AUC      rmse  p_vlaue        r2  \\\n",
       "0  79.610363  0.000000      0.0  0.149835   \n",
       "1  81.509907  0.000000      0.0  0.194467   \n",
       "2  80.942585  0.000000      0.0  0.159039   \n",
       "3  82.160657  0.821607      0.0  0.201997   \n",
       "0  80.625763  0.000000      0.0  0.168863   \n",
       "1  80.742969  0.000000      0.0  0.170293   \n",
       "2  81.931279  0.000000      0.0  0.188162   \n",
       "3  82.086037  0.000000      0.0  0.190622   \n",
       "4  80.338645  0.000000      0.0  0.171013   \n",
       "5  80.108152  0.000000      0.0  0.169394   \n",
       "6  82.550863  0.825509      0.0  0.207469   \n",
       "9  82.593713  0.825937      0.0  0.209025   \n",
       "\n",
       "                                               model type_mode  \\\n",
       "0  Narrativaai.deberta-v3-small-finetuned-hate_sp...     small   \n",
       "1                          microsoft.deberta-v3-base      base   \n",
       "2                         microsoft.deberta-v3-large     large   \n",
       "3                                           ensemble  ensemble   \n",
       "0  Narrativaai.deberta-v3-small-finetuned-hate_sp...     small   \n",
       "1  Narrativaai.deberta-v3-small-finetuned-hate_sp...     small   \n",
       "2                          microsoft.deberta-v3-base      base   \n",
       "3                          microsoft.deberta-v3-base      base   \n",
       "4                         microsoft.deberta-v3-large     large   \n",
       "5                         microsoft.deberta-v3-large     large   \n",
       "6                                           ensemble  ensemble   \n",
       "9                                           ensemble  ensemble   \n",
       "\n",
       "                            exp  \n",
       "0              Gab_baseline_cla  \n",
       "1              Gab_baseline_cla  \n",
       "2              Gab_baseline_cla  \n",
       "3                      baseline  \n",
       "0         Gab_backtranslate_cla  \n",
       "1         Gab_backtranslate_cla  \n",
       "2         Gab_backtranslate_cla  \n",
       "3         Gab_backtranslate_cla  \n",
       "4         Gab_backtranslate_cla  \n",
       "5         Gab_backtranslate_cla  \n",
       "6  backtranslate_classification  \n",
       "9                           all  "
      ]
     },
     "execution_count": 9,
     "metadata": {},
     "output_type": "execute_result"
    }
   ],
   "source": [
    "# df_sum = pd.concat([base_df,toxigen_df,backtranslate_df,all_df])\n",
    "df_sum = pd.concat([base_df,backtranslate_df,all_df])\n",
    "\n",
    "df_sum"
   ]
  },
  {
   "cell_type": "code",
   "execution_count": 10,
   "id": "6700c6d9-6a71-4a2d-9eb3-bd2a9a3ddc9c",
   "metadata": {},
   "outputs": [
    {
     "data": {
      "image/png": "[encoded data removed]",
      "text/plain": [
       "<Figure size 720x360 with 1 Axes>"
      ]
     },
     "metadata": {
      "needs_background": "light"
     },
     "output_type": "display_data"
    }
   ],
   "source": [
    "plt.figure(figsize=[10,5])\n",
    "A = abs(np.array(group).mean(0)-y)\n",
    "plt.hist(A,density=True,bins=100)\n",
    "plt.hist(A,density=True, cumulative=True, label='CDF', histtype='step',color='red')\n",
    "plt.title(\"MAE histogram\")\n",
    "plt.show()"
   ]
  },
  {
   "cell_type": "code",
   "execution_count": 11,
   "id": "0e4d66d0-c3bf-4243-b56b-13eadc9856f6",
   "metadata": {},
   "outputs": [
    {
     "data": {
      "image/png": "[encoded data removed]",
      "text/plain": [
       "<Figure size 720x360 with 1 Axes>"
      ]
     },
     "metadata": {
      "needs_background": "light"
     },
     "output_type": "display_data"
    }
   ],
   "source": [
    "plt.figure(figsize=[10,5])\n",
    "A = abs(np.array(group)[5]-np.array(group)[0])\n",
    "plt.hist(A,density=True,bins=100)\n",
    "plt.hist(A,density=True, cumulative=True, label='CDF', histtype='step',color='red')\n",
    "plt.title(\"MAE histogram\")\n",
    "plt.show()"
   ]
  },
  {
   "cell_type": "code",
   "execution_count": 12,
   "id": "56a5342c-f08f-4438-a7c8-15a66436777a",
   "metadata": {},
   "outputs": [
    {
     "data": {
      "image/png": "[encoded data removed]",
      "text/plain": [
       "<Figure size 720x360 with 1 Axes>"
      ]
     },
     "metadata": {
      "needs_background": "light"
     },
     "output_type": "display_data"
    }
   ],
   "source": [
    "plt.figure(figsize=[10,5])\n",
    "for g in group[2:5]:\n",
    "    plt.hist(g,density=True,bins=100,alpha=0.5)\n"
   ]
  },
  {
   "cell_type": "code",
   "execution_count": 13,
   "id": "9ce08307-210d-4bbe-bcfc-fdf9a79faab2",
   "metadata": {},
   "outputs": [
    {
     "data": {
      "text/plain": [
       "(array([954., 614., 480., 394., 345., 331., 281., 230., 224., 135.]),\n",
       " array([0.05686906, 0.40052489, 0.74418072, 1.08783655, 1.43149237,\n",
       "        1.7751482 , 2.11880403, 2.46245986, 2.80611569, 3.14977151,\n",
       "        3.49342734]),\n",
       " <BarContainer object of 10 artists>)"
      ]
     },
     "execution_count": 13,
     "metadata": {},
     "output_type": "execute_result"
    },
    {
     "data": {
      "image/png": "[encoded data removed]",
      "text/plain": [
       "<Figure size 432x288 with 1 Axes>"
      ]
     },
     "metadata": {
      "needs_background": "light"
     },
     "output_type": "display_data"
    }
   ],
   "source": [
    "plt.hist(y[np.where(y*4>2)]*4)\n",
    "plt.hist(np.array(group).mean(0)[np.where(y*4>2)]*4,alpha=0.5)"
   ]
  },
  {
   "cell_type": "code",
   "execution_count": 14,
   "id": "769bd873-695e-498d-99d1-177d7d97fa85",
   "metadata": {},
   "outputs": [
    {
     "data": {
      "text/plain": [
       "FriedmanchisquareResult(statistic=12614.282001959858, pvalue=0.0)"
      ]
     },
     "execution_count": 14,
     "metadata": {},
     "output_type": "execute_result"
    }
   ],
   "source": [
    "from scipy import stats\n",
    "stats.friedmanchisquare(group[0], group[1], group[2])"
   ]
  },
  {
   "cell_type": "code",
   "execution_count": 44,
   "id": "9aca8c70-d634-4ae5-9fe1-5a29c02f6dda",
   "metadata": {},
   "outputs": [
    {
     "data": {
      "text/plain": [
       "Text(0.5, 1.0, 'parler-hate-speech ROC curve')"
      ]
     },
     "execution_count": 44,
     "metadata": {},
     "output_type": "execute_result"
    },
    {
     "data": {
      "image/png": "[encoded data removed]",
      "text/plain": [
       "<Figure size 720x432 with 1 Axes>"
      ]
     },
     "metadata": {
      "needs_background": "light"
     },
     "output_type": "display_data"
    }
   ],
   "source": [
    "fig, ax = plt.subplots(figsize=(10, 6))\n",
    "RocCurveDisplay.from_predictions(\n",
    "                            y,\n",
    "                            np.array(group).mean(0),\n",
    "                            name=f\"ensemble\",ax=ax\n",
    "                        )\n",
    "RocCurveDisplay.from_predictions(\n",
    "                            y,\n",
    "                            np.array(group)[-3],\n",
    "                            name=f\"best single model\",ax=ax\n",
    "                        )\n",
    "RocCurveDisplay.from_predictions(\n",
    "                            y,\n",
    "                            np.array(group)[2],\n",
    "                            name=f\"small model\",ax=ax\n",
    "                        )\n",
    "ax.set_title(\"parler-hate-speech ROC curve\")"
   ]
  },
  {
   "cell_type": "code",
   "execution_count": 23,
   "id": "04ba2f73-a2f5-42cb-a10b-22d65f440262",
   "metadata": {},
   "outputs": [
    {
     "data": {
      "text/plain": [
       "0.929262101650238"
      ]
     },
     "execution_count": 23,
     "metadata": {},
     "output_type": "execute_result"
    }
   ],
   "source": [
    "np.array(group[0]).max()"
   ]
  }
 ],
 "metadata": {
  "kernelspec": {
   "display_name": "Python (mmdet)",
   "language": "python",
   "name": "mmdet"
  },
  "language_info": {
   "codemirror_mode": {
    "name": "ipython",
    "version": 3
   },
   "file_extension": ".py",
   "mimetype": "text/x-python",
   "name": "python",
   "nbconvert_exporter": "python",
   "pygments_lexer": "ipython3",
   "version": "3.7.10"
  }
 },
 "nbformat": 4,
 "nbformat_minor": 5
}
