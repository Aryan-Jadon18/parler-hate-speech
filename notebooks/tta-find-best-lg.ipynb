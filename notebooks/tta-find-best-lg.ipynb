{
 "cells": [
  {
   "cell_type": "code",
   "execution_count": 1,
   "id": "5fde0fa1-1255-48dd-bd3b-eb03e12be30f",
   "metadata": {},
   "outputs": [
    {
     "name": "stdout",
     "output_type": "stream",
     "text": [
      "tokenizers.__version__: 0.12.1\n",
      "transformers.__version__: 4.21.2\n"
     ]
    }
   ],
   "source": [
    "import pandas as pd\n",
    "import os\n",
    "os.environ[\"TOKENIZERS_PARALLELISM\"] = \"false\"\n",
    "import os\n",
    "import gc\n",
    "import re\n",
    "import ast\n",
    "import sys\n",
    "import copy\n",
    "import json\n",
    "import time\n",
    "import math\n",
    "import string\n",
    "import pickle\n",
    "import random\n",
    "import joblib\n",
    "import itertools\n",
    "import warnings\n",
    "warnings.filterwarnings(\"ignore\")\n",
    "import scipy as sp\n",
    "import numpy as np\n",
    "import pandas as pd\n",
    "from tqdm.auto import tqdm\n",
    "from sklearn.metrics import mean_squared_error\n",
    "from sklearn.model_selection import StratifiedKFold, GroupKFold, KFold\n",
    "from iterstrat.ml_stratifiers import MultilabelStratifiedKFold\n",
    "import sys\n",
    "sys.path.append(\"src\")\n",
    "import torch\n",
    "import torch.nn as nn\n",
    "from torch.nn import Parameter\n",
    "import torch.nn.functional as F\n",
    "from torch.optim import Adam, SGD, AdamW\n",
    "from torch.utils.data import DataLoader, Dataset\n",
    "import tokenizers\n",
    "import transformers\n",
    "print(f\"tokenizers.__version__: {tokenizers.__version__}\")\n",
    "print(f\"transformers.__version__: {transformers.__version__}\")\n",
    "from transformers import AutoTokenizer, AutoModel, AutoConfig\n",
    "from transformers import get_linear_schedule_with_warmup, get_cosine_schedule_with_warmup\n",
    "# %env TOKENIZERS_PARALLELISM=true\n",
    "device = torch.device('cuda' if torch.cuda.is_available() else 'cpu')\n",
    "import argparse\n",
    "from utils import *\n",
    "\n",
    "def get_result(oof_df,is_cla=False):\n",
    "    labels = oof_df[CFG.target_cols].values\n",
    "    preds = oof_df[[f\"pred_{c}\" for c in CFG.target_cols]].values\n",
    "    if is_cla:\n",
    "        score, scores = get_score_cla(labels, preds)\n",
    "    else:\n",
    "        score, scores = get_score(labels, preds)\n",
    "    LOGGER.info(f'Score: {score:<.4f}  Scores: {scores}')\n",
    "\n",
    "class CFG:\n",
    "    wandb=False\n",
    "    competition='Hate'\n",
    "    debug=False\n",
    "    apex=True\n",
    "    print_freq=100\n",
    "    num_workers=6\n",
    "    model=\"microsoft/deberta-v3-base\"#\"Narrativaai/deberta-v3-small-finetuned-hate_speech18\"#\"microsoft/deberta-v3-base\"\n",
    "    gradient_checkpointing=True\n",
    "    scheduler='cosine'\n",
    "    batch_scheduler=True\n",
    "    num_cycles=0.5\n",
    "    num_warmup_steps=0\n",
    "    epochs=5\n",
    "    encoder_lr=2e-5\n",
    "    decoder_lr=2e-5\n",
    "    min_lr=1e-6\n",
    "    eps=1e-6\n",
    "    betas=(0.9, 0.999)\n",
    "    batch_size=12\n",
    "    max_len=512\n",
    "    weight_decay=0.01\n",
    "    gradient_accumulation_steps=1\n",
    "    max_grad_norm=1000\n",
    "    target_cols=['label_mean']#,'HD', 'CV', 'VO','REL', 'RAE', 'SXO', 'GEN', 'IDL', 'NAT', 'POL', 'MPH', 'EX', 'IM']\n",
    "    seed=42\n",
    "    n_fold=4\n",
    "    trn_fold=[0, 1, 2, 3]\n",
    "    train=True\n",
    "    pretrain_hate = False\n",
    "    back_translation = False"
   ]
  },
  {
   "cell_type": "code",
   "execution_count": 2,
   "id": "b8cbf55d-eb5b-46ee-95b3-8e6841eb74ef",
   "metadata": {},
   "outputs": [],
   "source": [
    "train = pd.read_csv('./parler-hate-speech/parler_annotated_data_bt.csv')\n",
    "train[CFG.target_cols] = train[CFG.target_cols] - train[CFG.target_cols].min()\n",
    "train[CFG.target_cols] = train[CFG.target_cols] / train[CFG.target_cols].max()\n",
    "Fold = MultilabelStratifiedKFold(n_splits=CFG.n_fold, shuffle=True, random_state=CFG.seed)\n",
    "for n, (train_index, val_index) in enumerate(Fold.split(train, train[CFG.target_cols+['id']])):\n",
    "    train.loc[val_index, 'fold'] = int(n)\n",
    "train['fold'] = train['fold'].astype(int)"
   ]
  },
  {
   "cell_type": "code",
   "execution_count": 3,
   "id": "ce099c60-05cc-4be5-8d1f-9384ae5794b0",
   "metadata": {},
   "outputs": [
    {
     "name": "stderr",
     "output_type": "stream",
     "text": [
      "Special tokens have been added in the vocabulary, make sure the associated word embeddings are fine-tuned or trained.\n",
      "Special tokens have been added in the vocabulary, make sure the associated word embeddings are fine-tuned or trained.\n"
     ]
    }
   ],
   "source": [
    "tokenizer = AutoTokenizer.from_pretrained(CFG.model)\n",
    "CFG.tokenizer = tokenizer"
   ]
  },
  {
   "cell_type": "code",
   "execution_count": 4,
   "id": "3c514e42-1484-47cf-8d6c-7461cb48495f",
   "metadata": {},
   "outputs": [
    {
     "data": {
      "application/vnd.jupyter.widget-view+json": {
       "model_id": "2fa6588e11594b178ffc2bd8c9ff0f55",
       "version_major": 2,
       "version_minor": 0
      },
      "text/plain": [
       "  0%|          | 0/10121 [00:00<?, ?it/s]"
      ]
     },
     "metadata": {},
     "output_type": "display_data"
    }
   ],
   "source": [
    "lengths = []\n",
    "tk0 = tqdm(train['text'].fillna(\"\").values, total=len(train))\n",
    "for text in tk0:\n",
    "    length = len(tokenizer(text, add_special_tokens=False)['input_ids'])\n",
    "    lengths.append(length)\n",
    "CFG.max_len = min(509,max(lengths)) + 3 # cls & sep & sep"
   ]
  },
  {
   "cell_type": "code",
   "execution_count": 5,
   "id": "202ffd80-cc02-42c7-8216-c3fefd5be9ac",
   "metadata": {},
   "outputs": [
    {
     "name": "stderr",
     "output_type": "stream",
     "text": [
      "DebertaV2Config {\n",
      "  \"_name_or_path\": \"microsoft/deberta-v3-base\",\n",
      "  \"attention_dropout\": 0.0,\n",
      "  \"attention_probs_dropout_prob\": 0.0,\n",
      "  \"hidden_act\": \"gelu\",\n",
      "  \"hidden_dropout\": 0.0,\n",
      "  \"hidden_dropout_prob\": 0.0,\n",
      "  \"hidden_size\": 768,\n",
      "  \"initializer_range\": 0.02,\n",
      "  \"intermediate_size\": 3072,\n",
      "  \"layer_norm_eps\": 1e-07,\n",
      "  \"max_position_embeddings\": 512,\n",
      "  \"max_relative_positions\": -1,\n",
      "  \"model_type\": \"deberta-v2\",\n",
      "  \"norm_rel_ebd\": \"layer_norm\",\n",
      "  \"num_attention_heads\": 12,\n",
      "  \"num_hidden_layers\": 12,\n",
      "  \"output_hidden_states\": true,\n",
      "  \"pad_token_id\": 0,\n",
      "  \"pooler_dropout\": 0,\n",
      "  \"pooler_hidden_act\": \"gelu\",\n",
      "  \"pooler_hidden_size\": 768,\n",
      "  \"pos_att_type\": [\n",
      "    \"p2c\",\n",
      "    \"c2p\"\n",
      "  ],\n",
      "  \"position_biased_input\": false,\n",
      "  \"position_buckets\": 256,\n",
      "  \"relative_attention\": true,\n",
      "  \"share_att_key\": true,\n",
      "  \"transformers_version\": \"4.21.2\",\n",
      "  \"type_vocab_size\": 0,\n",
      "  \"vocab_size\": 128100\n",
      "}\n",
      "\n",
      "Some weights of the model checkpoint at microsoft/deberta-v3-base were not used when initializing DebertaV2Model: ['lm_predictions.lm_head.dense.bias', 'lm_predictions.lm_head.LayerNorm.bias', 'lm_predictions.lm_head.LayerNorm.weight', 'mask_predictions.LayerNorm.weight', 'mask_predictions.classifier.weight', 'mask_predictions.dense.bias', 'mask_predictions.dense.weight', 'mask_predictions.classifier.bias', 'mask_predictions.LayerNorm.bias', 'lm_predictions.lm_head.dense.weight', 'lm_predictions.lm_head.bias']\n",
      "- This IS expected if you are initializing DebertaV2Model from the checkpoint of a model trained on another task or with another architecture (e.g. initializing a BertForSequenceClassification model from a BertForPreTraining model).\n",
      "- This IS NOT expected if you are initializing DebertaV2Model from the checkpoint of a model that you expect to be exactly identical (initializing a BertForSequenceClassification model from a BertForSequenceClassification model).\n"
     ]
    }
   ],
   "source": [
    "model = CustomModel(CFG, config_path=None, pretrained=True,LOGGER = get_logger(filename=\"temp\"))"
   ]
  },
  {
   "cell_type": "code",
   "execution_count": 6,
   "id": "53eba2bb-8224-4df8-9e74-ef635771ff71",
   "metadata": {},
   "outputs": [],
   "source": [
    "class TestDataset(Dataset):\n",
    "    def __init__(self, cfg, df,text_col = \"text\"):\n",
    "        self.cfg = cfg\n",
    "        df = df.fillna(\"-9999\")\n",
    "        self.df = df\n",
    "        self.texts = df[text_col].values\n",
    "        \n",
    "    def __len__(self):\n",
    "        return len(self.texts)\n",
    "\n",
    "    def __getitem__(self, item):\n",
    "        texts = self.texts[item]\n",
    "        inputs = prepare_input(self.cfg, texts)\n",
    "        return inputs"
   ]
  },
  {
   "cell_type": "code",
   "execution_count": 7,
   "id": "96354889-2576-45a9-a4ea-192e5d52a365",
   "metadata": {},
   "outputs": [],
   "source": [
    "test_dataset_en = TestDataset(CFG,train,text_col = \"text\")\n",
    "test_loader_en = DataLoader(test_dataset_en,\n",
    "                        batch_size=CFG.batch_size * 2,\n",
    "                        shuffle=False,\n",
    "                        num_workers=CFG.num_workers, pin_memory=True, drop_last=False)\n",
    "\n",
    "test_dataset_de = TestDataset(CFG,train,text_col = \"BackTranslation_de\")\n",
    "test_loader_de = DataLoader(test_dataset_de,\n",
    "                        batch_size=CFG.batch_size * 2,\n",
    "                        shuffle=False,\n",
    "                        num_workers=CFG.num_workers, pin_memory=True, drop_last=False)\n",
    "\n",
    "test_dataset_fr = TestDataset(CFG,train,text_col = \"BackTranslation_fr\")\n",
    "test_loader_fr = DataLoader(test_dataset_fr,\n",
    "                        batch_size=CFG.batch_size * 2,\n",
    "                        shuffle=False,\n",
    "                        num_workers=CFG.num_workers, pin_memory=True, drop_last=False)\n",
    "\n",
    "test_dataset_es = TestDataset(CFG,train,text_col = \"BackTranslation_es\")\n",
    "test_loader_es = DataLoader(test_dataset_es,\n",
    "                        batch_size=CFG.batch_size * 2,\n",
    "                        shuffle=False,\n",
    "                        num_workers=CFG.num_workers, pin_memory=True, drop_last=False)\n",
    "test_dataset_no = TestDataset(CFG,train,text_col = \"BackTranslation_no\")\n",
    "test_loader_no = DataLoader(test_dataset_no,\n",
    "                        batch_size=CFG.batch_size * 2,\n",
    "                        shuffle=False,\n",
    "                        num_workers=CFG.num_workers, pin_memory=True, drop_last=False)"
   ]
  },
  {
   "cell_type": "code",
   "execution_count": 21,
   "id": "6ec97935-b69a-4ef4-bff6-e20503ada739",
   "metadata": {},
   "outputs": [
    {
     "name": "stderr",
     "output_type": "stream",
     "text": [
      "DebertaV2Config {\n",
      "  \"_name_or_path\": \"microsoft/deberta-v3-large\",\n",
      "  \"attention_dropout\": 0.0,\n",
      "  \"attention_probs_dropout_prob\": 0.0,\n",
      "  \"hidden_act\": \"gelu\",\n",
      "  \"hidden_dropout\": 0.0,\n",
      "  \"hidden_dropout_prob\": 0.0,\n",
      "  \"hidden_size\": 1024,\n",
      "  \"initializer_range\": 0.02,\n",
      "  \"intermediate_size\": 4096,\n",
      "  \"layer_norm_eps\": 1e-07,\n",
      "  \"max_position_embeddings\": 512,\n",
      "  \"max_relative_positions\": -1,\n",
      "  \"model_type\": \"deberta-v2\",\n",
      "  \"norm_rel_ebd\": \"layer_norm\",\n",
      "  \"num_attention_heads\": 16,\n",
      "  \"num_hidden_layers\": 24,\n",
      "  \"output_hidden_states\": true,\n",
      "  \"pad_token_id\": 0,\n",
      "  \"pooler_dropout\": 0,\n",
      "  \"pooler_hidden_act\": \"gelu\",\n",
      "  \"pooler_hidden_size\": 1024,\n",
      "  \"pos_att_type\": [\n",
      "    \"p2c\",\n",
      "    \"c2p\"\n",
      "  ],\n",
      "  \"position_biased_input\": false,\n",
      "  \"position_buckets\": 256,\n",
      "  \"relative_attention\": true,\n",
      "  \"share_att_key\": true,\n",
      "  \"transformers_version\": \"4.21.2\",\n",
      "  \"type_vocab_size\": 0,\n",
      "  \"vocab_size\": 128100\n",
      "}\n",
      "\n",
      "DebertaV2Config {\n",
      "  \"_name_or_path\": \"microsoft/deberta-v3-large\",\n",
      "  \"attention_dropout\": 0.0,\n",
      "  \"attention_probs_dropout_prob\": 0.0,\n",
      "  \"hidden_act\": \"gelu\",\n",
      "  \"hidden_dropout\": 0.0,\n",
      "  \"hidden_dropout_prob\": 0.0,\n",
      "  \"hidden_size\": 1024,\n",
      "  \"initializer_range\": 0.02,\n",
      "  \"intermediate_size\": 4096,\n",
      "  \"layer_norm_eps\": 1e-07,\n",
      "  \"max_position_embeddings\": 512,\n",
      "  \"max_relative_positions\": -1,\n",
      "  \"model_type\": \"deberta-v2\",\n",
      "  \"norm_rel_ebd\": \"layer_norm\",\n",
      "  \"num_attention_heads\": 16,\n",
      "  \"num_hidden_layers\": 24,\n",
      "  \"output_hidden_states\": true,\n",
      "  \"pad_token_id\": 0,\n",
      "  \"pooler_dropout\": 0,\n",
      "  \"pooler_hidden_act\": \"gelu\",\n",
      "  \"pooler_hidden_size\": 1024,\n",
      "  \"pos_att_type\": [\n",
      "    \"p2c\",\n",
      "    \"c2p\"\n",
      "  ],\n",
      "  \"position_biased_input\": false,\n",
      "  \"position_buckets\": 256,\n",
      "  \"relative_attention\": true,\n",
      "  \"share_att_key\": true,\n",
      "  \"transformers_version\": \"4.21.2\",\n",
      "  \"type_vocab_size\": 0,\n",
      "  \"vocab_size\": 128100\n",
      "}\n",
      "\n",
      "DebertaV2Config {\n",
      "  \"_name_or_path\": \"microsoft/deberta-v3-large\",\n",
      "  \"attention_dropout\": 0.0,\n",
      "  \"attention_probs_dropout_prob\": 0.0,\n",
      "  \"hidden_act\": \"gelu\",\n",
      "  \"hidden_dropout\": 0.0,\n",
      "  \"hidden_dropout_prob\": 0.0,\n",
      "  \"hidden_size\": 1024,\n",
      "  \"initializer_range\": 0.02,\n",
      "  \"intermediate_size\": 4096,\n",
      "  \"layer_norm_eps\": 1e-07,\n",
      "  \"max_position_embeddings\": 512,\n",
      "  \"max_relative_positions\": -1,\n",
      "  \"model_type\": \"deberta-v2\",\n",
      "  \"norm_rel_ebd\": \"layer_norm\",\n",
      "  \"num_attention_heads\": 16,\n",
      "  \"num_hidden_layers\": 24,\n",
      "  \"output_hidden_states\": true,\n",
      "  \"pad_token_id\": 0,\n",
      "  \"pooler_dropout\": 0,\n",
      "  \"pooler_hidden_act\": \"gelu\",\n",
      "  \"pooler_hidden_size\": 1024,\n",
      "  \"pos_att_type\": [\n",
      "    \"p2c\",\n",
      "    \"c2p\"\n",
      "  ],\n",
      "  \"position_biased_input\": false,\n",
      "  \"position_buckets\": 256,\n",
      "  \"relative_attention\": true,\n",
      "  \"share_att_key\": true,\n",
      "  \"transformers_version\": \"4.21.2\",\n",
      "  \"type_vocab_size\": 0,\n",
      "  \"vocab_size\": 128100\n",
      "}\n",
      "\n",
      "Some weights of the model checkpoint at microsoft/deberta-v3-large were not used when initializing DebertaV2Model: ['lm_predictions.lm_head.dense.bias', 'lm_predictions.lm_head.LayerNorm.bias', 'lm_predictions.lm_head.LayerNorm.weight', 'mask_predictions.LayerNorm.weight', 'mask_predictions.classifier.weight', 'mask_predictions.dense.bias', 'mask_predictions.dense.weight', 'mask_predictions.classifier.bias', 'mask_predictions.LayerNorm.bias', 'lm_predictions.lm_head.dense.weight', 'lm_predictions.lm_head.bias']\n",
      "- This IS expected if you are initializing DebertaV2Model from the checkpoint of a model trained on another task or with another architecture (e.g. initializing a BertForSequenceClassification model from a BertForPreTraining model).\n",
      "- This IS NOT expected if you are initializing DebertaV2Model from the checkpoint of a model that you expect to be exactly identical (initializing a BertForSequenceClassification model from a BertForSequenceClassification model).\n"
     ]
    },
    {
     "data": {
      "application/vnd.jupyter.widget-view+json": {
       "model_id": "6e398cb1a9144dccacd9ac6d0950a741",
       "version_major": 2,
       "version_minor": 0
      },
      "text/plain": [
       "  0%|          | 0/4 [00:00<?, ?it/s]"
      ]
     },
     "metadata": {},
     "output_type": "display_data"
    },
    {
     "data": {
      "application/vnd.jupyter.widget-view+json": {
       "model_id": "86c6a793747a4aa58097ef93e8e70e31",
       "version_major": 2,
       "version_minor": 0
      },
      "text/plain": [
       "  0%|          | 0/5 [00:00<?, ?it/s]"
      ]
     },
     "metadata": {},
     "output_type": "display_data"
    },
    {
     "name": "stdout",
     "output_type": "stream",
     "text": [
      "fold - 0 tta results - 0.7731443805021772\n"
     ]
    },
    {
     "data": {
      "application/vnd.jupyter.widget-view+json": {
       "model_id": "8b07e49e15194da6becc760e8bb45608",
       "version_major": 2,
       "version_minor": 0
      },
      "text/plain": [
       "  0%|          | 0/5 [00:00<?, ?it/s]"
      ]
     },
     "metadata": {},
     "output_type": "display_data"
    },
    {
     "name": "stdout",
     "output_type": "stream",
     "text": [
      "fold - 1 tta results - 0.7672378185465264\n"
     ]
    },
    {
     "data": {
      "application/vnd.jupyter.widget-view+json": {
       "model_id": "f131714501914d5aad1b11377d25505d",
       "version_major": 2,
       "version_minor": 0
      },
      "text/plain": [
       "  0%|          | 0/5 [00:00<?, ?it/s]"
      ]
     },
     "metadata": {},
     "output_type": "display_data"
    },
    {
     "name": "stdout",
     "output_type": "stream",
     "text": [
      "fold - 2 tta results - 0.8043429044914481\n"
     ]
    },
    {
     "data": {
      "application/vnd.jupyter.widget-view+json": {
       "model_id": "0e7d9e0753be406cab203cd4e67a9d9a",
       "version_major": 2,
       "version_minor": 0
      },
      "text/plain": [
       "  0%|          | 0/5 [00:00<?, ?it/s]"
      ]
     },
     "metadata": {},
     "output_type": "display_data"
    },
    {
     "name": "stdout",
     "output_type": "stream",
     "text": [
      "fold - 3 tta results - 0.8174030097159172\n"
     ]
    }
   ],
   "source": [
    "from tqdm.auto import tqdm\n",
    "from sklearn.metrics import mean_squared_error,mean_absolute_error,r2_score,recall_score,roc_auc_score,accuracy_score\n",
    "import glob\n",
    "TH_FROM_BASE = 0.3\n",
    "W = 0.75\n",
    "MODEL = 'microsoft.deberta-v3-large'\n",
    "EXP = 'outputs_baseline_reg'\n",
    "CFG.model = 'microsoft/deberta-v3-large'\n",
    "model = CustomModel(CFG, config_path=None, pretrained=True,LOGGER = get_logger(filename=\"temp\"))\n",
    "Results_Emb = []\n",
    "for fold in tqdm([0,1,2,3]):\n",
    "    state = torch.load(glob.glob(f\"./{EXP}/{MODEL}/*{fold}_best.pth\")[0])\n",
    "    model.load_state_dict(state[\"model\"])\n",
    "    model.eval()\n",
    "    model = model.to(device)\n",
    "    results_score = []\n",
    "    results_emb = []\n",
    "    for loader in tqdm([test_loader_en,test_loader_de,test_loader_fr,test_loader_es,test_loader_no]):\n",
    "        lg_embeddings = []\n",
    "        lg_score = []\n",
    "        for step, (inputs) in enumerate(loader):\n",
    "            inputs = collate(inputs)\n",
    "            for k, v in inputs.items():\n",
    "                inputs[k] = v.to(device)\n",
    "            with torch.no_grad():\n",
    "                sentence_embeddings = model.feature(inputs)\n",
    "                lg_embeddings.append(sentence_embeddings.to('cpu').numpy())\n",
    "                y_preds = model(inputs)\n",
    "                lg_score.append(y_preds.to('cpu').numpy())\n",
    "        lg_score = np.concatenate(lg_score)\n",
    "        lg_embeddings = np.concatenate(lg_embeddings)\n",
    "        results_score.append(lg_score)\n",
    "        results_emb.append(lg_embeddings)\n",
    "    Results_Emb.append(results_emb)\n",
    "    results = []\n",
    "    for i in range(len(results_score[0])):\n",
    "        base = results_score[0][i]\n",
    "        l = []\n",
    "        for row in range(1,4):\n",
    "            if abs(results_score[row][i] - base) < TH_FROM_BASE:\n",
    "                l.append(results_score[row][i])\n",
    "        if len(l) ==0:\n",
    "            results.append(base)\n",
    "        else:\n",
    "            results.append(W*base+(1-W)*np.mean(l))\n",
    "    train[f'tta_score_fold_{fold}'] = results\n",
    "    val = train[train['fold']==fold]\n",
    "    res = np.sqrt(mean_squared_error(val['label_mean'],val[f'tta_score_fold_{fold}']))*4    \n",
    "    print(f\"fold - {fold} tta results - {res}\")"
   ]
  },
  {
   "cell_type": "code",
   "execution_count": 22,
   "id": "cfe5318a-d389-42e8-ada6-19c9e6c38cf9",
   "metadata": {},
   "outputs": [],
   "source": [
    "from sklearn.decomposition import PCA\n",
    "from sklearn.discriminant_analysis import LinearDiscriminantAnalysis\n",
    "pca = PCA(n_components=2)\n",
    "val = train[train['fold']==fold]\n",
    "val_lsit = list(val.index)\n",
    "X = np.array(Results_Emb[0]).transpose(1,0,2)[val_lsit].transpose(1,0,2)\n",
    "XX = []\n",
    "YY = []\n",
    "for i,row in enumerate(X):\n",
    "    XX.append(row)\n",
    "    YY.append(np.ones_like(row)*i)\n",
    "XX = np.concatenate(XX)\n",
    "YY = np.concatenate(YY)[:,0]\n",
    "X_r = pca.fit(XX).transform(XX)\n",
    "lda = LinearDiscriminantAnalysis(n_components=2,store_covariance=True)\n",
    "X_r2 = lda.fit(XX, YY).transform(XX)"
   ]
  },
  {
   "cell_type": "code",
   "execution_count": 23,
   "id": "e9361a61-fad7-49a2-894a-b71573ea7e50",
   "metadata": {},
   "outputs": [
    {
     "name": "stdout",
     "output_type": "stream",
     "text": [
      "en:  Northern California Declares Independence From China. âThe State of Jeffersonâ Declares RESTORATION must take place to save our nation. Enter the armed patriots. State Right.\n",
      "de:  Northern California declares independence from China. “The state of Jefferson announces that the restoration must take place to save our nation. The Armed Patriots. State is right.\n",
      "fr:  Northern California declares its independence from China. The state of Jefferson says the RESTORATION must be done to save our nation. Enter the Armed Patriots. Law of the State.\n",
      "es:  Northern California declares its independence from China. The state of Jefferson declares that restoration must take place to save our nation. The armed patriots. Law of the State.\n",
      "no:  Northern California declares independence from China. The state Jefferson says that recovery must take place to save our nation. Into the armed patriots. State law.\n"
     ]
    },
    {
     "data": {
      "image/png": "[encoded data removed]",
      "text/plain": [
       "<Figure size 432x432 with 1 Axes>"
      ]
     },
     "metadata": {
      "needs_background": "light"
     },
     "output_type": "display_data"
    },
    {
     "name": "stdout",
     "output_type": "stream",
     "text": [
      "en:  EVEN DISGUSTING OBAMA DIDNâT WANT TO SUPPORT PEDO BIDEN.\n",
      "\n",
      "#GODWINS #GODALWAYSWINS #SAVETHECHILDREN #Q #QANON #WWG1WGA #MAGA #TRUMP2020 #TRUMP #USA #WETHEPEOPLE #CONSERVATIVE #REPUBLICAN #AMERICAN #AMERICAFIRST #PROMISESMADEPROMISESKEPT #KAGA #FREEDOM #TRUMPSUPPORTERS #DRAINTHESWAMP #THEGREATAWAKENING #DIGITALSOLDIER #CALMBEFORETHESTORM #PEDOJOE #PIZZAGATE #PEDOWOOD #OBAMAGATE #CLINTONS #DEEPSTATE #ADRENOCHROME #TRUTH #WOKE #WAKEUPAMERICA\n",
      "de:  Everyone who disappointed Obama wanted to support Pedo Biden.\n",
      "\n",
      "#GODWINS #GODALWAYSWINS #SAVETHECHILDREN #Q #QANON #WWWG1WGA #MAGA #TRUMP2020 #TRUMP #USA #WETHEPEOPLE #CONSERVATIVE #REPUBLICAN #AMERICAN #AMERICAFIRST #PROMISESMADEPROMISKEPT #KAGA #FREEDOM #TRUMPSUPPORTERS #DRAINTHESWAMP #THEGREATAWAKENING #DIGITALSOLDIER #CALMBEFORETHESTORM #PEDOJOE #PIZZAGATE #PEDOWOODOODOODOODOODOODOODOODOODOODOODOODOODOODOODOODOOD\n",
      "fr:  Obama did not support Pedo Biden.\n",
      "\n",
      "#GODWINS #GODALWAYSWINS #SAVETHECHILDREN #Q #QANON #WWG1WGA #MAGA #TRUMP2020 #TRUMP #USA #WETHEPEOPLE #CONSERVATIVE #REPUBLICAN #AMERICAN #AMERICAFIRST #PROMISESMADEPROMISKEPT #KAGA #FREEDOM #TRUMPSUPPORTERS #DRAINTHESWAMP #THEGREATAWAKENING #DIGITALSOLDIER #CALMBEFORETHESTORM #PEDOJOE #PIZZAGATE #PEDOODOODOODOODOODOODOODOODOODOODOODOODOODOODOODOODOODOODOODO\n",
      "es:  Once he enjoys Obama, DIDN doesn’t want to support Pedo Biden.\n",
      "\n",
      "#GODWINS #GODALWAYSWINS #SAVETHECHILDREN #Q #QANON #WWG1WGA #MAGA #TRUMP2020 #TRUMP #USA #WETHEPEOPLE #CONSERVATIVE #REPUBLICAN #AMERICAN #AMERICAFIRST #PROMISMADEPROMISKEPT #KAGA #FREEDOM #TRUMPSUPPORTERS #DRAINTHESWAMP #THEGREATAWAKENING #DIGITALSOLDIER #CALMBEFORETHESTORM #PEDOJOE #PIZZAGATE #PEDOODOODOODOODOODOODOODOODOODOODOODOODOODOODOODOODOODOODOODOOD\n",
      "no:  One time he is looking forward to Obama will not support Pedo Biden.\n",
      "\n",
      "#GODWINS #GODALWAYSWINS #SAVETHECHILDREN #Q #QANON #WWWG1WGA #MAGA #TRUMP2020 #TRUMP #USA #WETHEPEOPLE #CONSERVATIVE #REPUBLICAN #AMERICAN #AMERICAFIRST #PROMISESMADEPROMISKEPT #KAGA #FREEDOM #TRUMPSUPPORTERS #DRAINTHESWAMP #THEGREATAWAKENING #DIGITALSOLDIER #CALMBEFORETHESTORM #PEDOJOE #PIZZAGATE #PEDOWOODOODOODOODOODOODOODOODOODOODOODOODOODOODOODOODOODOODO\n"
     ]
    },
    {
     "data": {
      "image/png": "[encoded data removed]",
      "text/plain": [
       "<Figure size 432x432 with 1 Axes>"
      ]
     },
     "metadata": {
      "needs_background": "light"
     },
     "output_type": "display_data"
    },
    {
     "name": "stdout",
     "output_type": "stream",
     "text": [
      "en:  STIMULUS BILL SHOULD BE ONE PIECE OF PAPER! MAYBE\n",
      "TWO! INDIVIDUAL AMERICAN CITIZENS GET 2,000 CHILDREN 1,000 SMALL BUSINESS OWNERS WHATEVER THEY NEED! \n",
      "EVICTION RELIEF! AND SPECIAL PROTECTION FROM\n",
      "UNREASONABLE LAW ENFORCEMENT ACTIONS!\n",
      "de:  The stimulation should be a piece of paper. furniture\n",
      "Two to! Individual US citizens get 2,000 children 1,000 small entrepreneurs if they need! \n",
      "Resurrection to Relift. Special protection of\n",
      "Unfounded legal aid.\n",
      "fr:  The impulse must be a piece of paper. The Maybe\n",
      "Two of them! Individual American citizens receive 2,000 children 1,000 small business buyers they need! \n",
      "Reflection of awakening. Special protection of\n",
      "Inappropriate legal improvement.\n",
      "es:  The stimulus should be a piece of paper! by Mayas\n",
      "The two! Individual citizens of the United States receive 2,000 children 1,000 small business owners at any time they need! \n",
      "The relief of the evacuation. Special protection from\n",
      "Inappropriate legal strengthening actions.\n",
      "no:  “Stimulus should be a piece of paper!”\n",
      "Two of them! Individual American Citizens Give 2,000 JOLDREN 1,000 SMALL BUSINESS OWNERS WHAT YOU NEED! \n",
      "Expansion of RELIEF. Special protection from\n",
      "Unusual law enforcement.\n"
     ]
    },
    {
     "data": {
      "image/png": "[encoded data removed]",
      "text/plain": [
       "<Figure size 432x432 with 1 Axes>"
      ]
     },
     "metadata": {
      "needs_background": "light"
     },
     "output_type": "display_data"
    }
   ],
   "source": [
    "from matplotlib import pyplot as plt\n",
    "for z,F in enumerate([0,100,10]):\n",
    "    plt.figure(figsize=[6,6])\n",
    "    row = val.iloc[F]\n",
    "    print(\"en: \", row['text'])\n",
    "    print(\"de: \", row['BackTranslation_de'])\n",
    "    print(\"fr: \", row['BackTranslation_fr'])\n",
    "    print(\"es: \", row['BackTranslation_es'])\n",
    "    print(\"no: \", row['BackTranslation_no'])\n",
    "    # plt.subplot(1,5,z+1)\n",
    "    X0 = np.array([X_r[len(val_lsit)*0+F],X_r[len(val_lsit)*1+F],X_r[len(val_lsit)*2+F],X_r[len(val_lsit)*3+F],X_r[len(val_lsit)*4+F]])\n",
    "    target_names = ['en','de','fr','es','no']    \n",
    "    colors = [\"navy\", \"turquoise\", \"darkorange\",'green',\"red\"]\n",
    "    lw = 4\n",
    "\n",
    "    for color, i, target_name in zip(colors, [0, 1, 2,3,4], target_names):\n",
    "        plt.scatter(\n",
    "            X0[i,0], X0[i,1], color=color, alpha=0.8, lw=10, label=target_name\n",
    "        )\n",
    "    plt.legend(loc=\"best\", shadow=False, scatterpoints=1)\n",
    "    center = (X0[0,0],X0[0,1])\n",
    "    plt.title(f\"PCA for sample {F}\")\n",
    "    plt.xlim(-4+center[0],4+center[0])\n",
    "    plt.ylim(-4+center[1],4+center[1])\n",
    "    plt.show()"
   ]
  },
  {
   "cell_type": "code",
   "execution_count": 24,
   "id": "6b48cb71-22e9-4a09-b9bf-e74a52817d2e",
   "metadata": {},
   "outputs": [
    {
     "data": {
      "image/png": "[encoded data removed]",
      "text/plain": [
       "<Figure size 432x288 with 1 Axes>"
      ]
     },
     "metadata": {
      "needs_background": "light"
     },
     "output_type": "display_data"
    }
   ],
   "source": [
    "plt.figure()\n",
    "for color, i, target_name in zip(colors, [0, 1, 2,3,4], target_names):\n",
    "    plt.scatter(\n",
    "        X_r2[YY == i, 0].mean(), X_r2[YY == i, 1].mean(), alpha=0.8, color=color, label=target_name, lw=10\n",
    "    )\n",
    "plt.legend(loc=\"best\", shadow=False, scatterpoints=1)\n",
    "plt.title(\"LDA\")\n",
    "\n",
    "plt.show()"
   ]
  },
  {
   "cell_type": "code",
   "execution_count": 25,
   "id": "797432ef-4cba-4c71-a19e-e433d00bfff8",
   "metadata": {},
   "outputs": [
    {
     "data": {
      "text/plain": [
       "Text(0.5, 1.0, 'TSNE')"
      ]
     },
     "execution_count": 25,
     "metadata": {},
     "output_type": "execute_result"
    },
    {
     "data": {
      "image/png": "[encoded data removed]",
      "text/plain": [
       "<Figure size 432x288 with 1 Axes>"
      ]
     },
     "metadata": {
      "needs_background": "light"
     },
     "output_type": "display_data"
    }
   ],
   "source": [
    "from sklearn.manifold import TSNE\n",
    "X_r = TSNE(n_components=2, learning_rate='auto',init='random', perplexity=3,random_state=42).fit_transform(XX)\n",
    "for color, i, target_name in zip(colors, [0, 1, 2,3,4], target_names):\n",
    "    plt.scatter(\n",
    "        X_r[YY == i, 0].mean(), X_r[YY == i, 1].mean(), color=color, alpha=0.8, lw=10, label=target_name\n",
    "    )\n",
    "plt.legend(loc=\"best\", shadow=False, scatterpoints=1)\n",
    "plt.title(\"TSNE\")"
   ]
  },
  {
   "cell_type": "code",
   "execution_count": 26,
   "id": "95f79374-d3ca-4d08-a571-5ce8047a2fde",
   "metadata": {},
   "outputs": [],
   "source": [
    "tta_res = []\n",
    "label = []\n",
    "for fold in [0,1,2,3]:\n",
    "    val = train[train['fold']==fold]\n",
    "    s = list(np.array(val[f'tta_score_fold_{fold}']).reshape(-1))\n",
    "    l = list(np.array(val[f'label_mean']).reshape(-1))\n",
    "    tta_res = tta_res + s\n",
    "    label = label + l"
   ]
  },
  {
   "cell_type": "code",
   "execution_count": 27,
   "id": "0bdbe77d-1702-4dd6-975d-eb2d8ecdec68",
   "metadata": {},
   "outputs": [],
   "source": [
    "def fix(row):\n",
    "    return row[0]\n",
    "train['tta_score_fold_0'] = train['tta_score_fold_0'].apply(fix)\n",
    "train['tta_score_fold_1'] = train['tta_score_fold_1'].apply(fix)\n",
    "train['tta_score_fold_2'] = train['tta_score_fold_2'].apply(fix)\n",
    "train['tta_score_fold_3'] = train['tta_score_fold_3'].apply(fix)\n",
    "train.to_pickle(f\"./{EXP}/{MODEL}/tta.pkl\")"
   ]
  },
  {
   "cell_type": "code",
   "execution_count": 28,
   "id": "1286e298-ca94-42cb-8fce-274d64583ce6",
   "metadata": {},
   "outputs": [
    {
     "name": "stdout",
     "output_type": "stream",
     "text": [
      "TTA improve model microsoft.deberta-v3-large RMSE score from 0.7948644294407987 to 0.7908112643434098 (diff: 0.0040531650973889555)\n"
     ]
    }
   ],
   "source": [
    "without_tta = pd.read_pickle(f\"./{EXP}/{MODEL}/oof_df.pkl\")\n",
    "without_tta_score = np.sqrt(mean_squared_error(without_tta['label_mean'],without_tta['pred_label_mean']))*4  \n",
    "with_tta_score = np.sqrt(mean_squared_error(label,tta_res))*4 \n",
    "print(f\"TTA improve model {MODEL} RMSE score from {without_tta_score} to {with_tta_score} (diff: {without_tta_score - with_tta_score})\")"
   ]
  },
  {
   "cell_type": "code",
   "execution_count": 34,
   "id": "ca41ea01-8798-4b42-bf34-a85f8d70f87a",
   "metadata": {},
   "outputs": [],
   "source": [
    "# train2 = [pd.read_pickle(row).sort_values(\"id\").reset_index(drop=True) for row in glob.glob(f\"./{EXP}/*/*tta*\")]\n",
    "# print(len(train2))\n",
    "# tta_res = []\n",
    "# label = []\n",
    "# for fold in [0,1,2,3]:\n",
    "#     val0 = train2[0][train2[0]['fold']==fold]\n",
    "#     val1 = train2[1][train2[1]['fold']==fold]\n",
    "#     val2 = train2[2][train2[2]['fold']==fold]\n",
    "#     s = list(np.array(val0[f'tta_score_fold_{fold}']).reshape(-1) + np.array(val1[f'tta_score_fold_{fold}']).reshape(-1) + np.array(val2[f'tta_score_fold_{fold}']).reshape(-1))\n",
    "#     s = np.array(s)/len(train2)\n",
    "#     l = list(np.array(val0[f'label_mean']).reshape(-1))\n",
    "#     tta_res = tta_res + list(s)\n",
    "#     label = label + l\n",
    "# ensemble_tta = np.sqrt(mean_squared_error(label,np.array(tta_res)))*4    \n",
    "# pkl = [pd.read_pickle(row).sort_values(\"id\").reset_index(drop=True) for row in glob.glob(f\"{EXP}/*/*.pkl\") if \"_reg\" in row and \"tta\" not in row and 'unitary' not in row]\n",
    "# pred = [row['pred_label_mean'].values for row in pkl]\n",
    "# target = [row['label_mean'].values for row in pkl]\n",
    "# ensemble_without_tta = np.sqrt(mean_squared_error(np.mean(target,axis=0),np.mean(pred,axis=0)))*4 \n",
    "# print(f\"TTA improve ensemble {EXP} RMSE score from {ensemble_without_tta} to {ensemble_tta} (diff: {ensemble_without_tta - ensemble_tta})\")"
   ]
  },
  {
   "cell_type": "code",
   "execution_count": 32,
   "id": "6583ba78-5814-45c0-9a0b-8efb7f731440",
   "metadata": {},
   "outputs": [
    {
     "data": {
      "text/plain": [
       "2"
      ]
     },
     "execution_count": 32,
     "metadata": {},
     "output_type": "execute_result"
    }
   ],
   "source": [
    "len(train2)"
   ]
  },
  {
   "cell_type": "code",
   "execution_count": null,
   "id": "471312eb-e958-465d-a0d2-823cad42cb20",
   "metadata": {},
   "outputs": [],
   "source": []
  }
 ],
 "metadata": {
  "kernelspec": {
   "display_name": "Python (mmdet)",
   "language": "python",
   "name": "mmdet"
  },
  "language_info": {
   "codemirror_mode": {
    "name": "ipython",
    "version": 3
   },
   "file_extension": ".py",
   "mimetype": "text/x-python",
   "name": "python",
   "nbconvert_exporter": "python",
   "pygments_lexer": "ipython3",
   "version": "3.7.10"
  }
 },
 "nbformat": 4,
 "nbformat_minor": 5
}
