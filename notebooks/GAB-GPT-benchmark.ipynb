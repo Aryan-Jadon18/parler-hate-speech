{
 "cells": [
  {
   "cell_type": "code",
   "execution_count": 1,
   "id": "317d2888",
   "metadata": {},
   "outputs": [],
   "source": [
    "import openai\n",
    "import pandas as pd\n",
    "\n",
    "# Set up your API key\n",
    "openai.api_key = \""\n",
    "\n",
    "# Function to interact with GPT-3\n",
    "def gpt_3_query(prompt, model=\"text-babbage-001\"): #text-davinci-003\n",
    "    response = openai.Completion.create(\n",
    "        engine=model,\n",
    "        prompt=prompt,\n",
    "        max_tokens=3,\n",
    "        n=1,\n",
    "        stop=None,\n",
    "        temperature=0.0\n",
    "    )\n",
    "    generated_text = response.choices[0].text\n",
    "    return generated_text.strip()\n",
    "\n",
    "# Load CSV file\n",
    "csv_file = \"GabHateCorpus_annotations_bt.csv\"\n",
    "df = pd.read_csv(csv_file)\n"
   ]
  },
  {
   "cell_type": "code",
   "execution_count": 2,
   "id": "43085c19",
   "metadata": {},
   "outputs": [],
   "source": [
    "# Process messages in the 'message' column and store the responses\n",
    "responses = []\n",
    "for message in df['text']:\n",
    "    response = gpt_3_query(\"Score the following sentences on hate speech from 0.0 to 1.0: \"+message)\n",
    "    responses.append(response)\n",
    "\n",
    "# Add a new column 'response' to the DataFrame with the generated responses\n",
    "df['gpt_score'] = responses\n",
    "\n",
    "# Save the results to a new CSV file\n",
    "output_file = \"GabHateCorpus_gpt_score.csv\"\n",
    "df.to_csv(output_file, index=False)\n"
   ]
  },
  {
   "cell_type": "code",
   "execution_count": 3,
   "id": "02f9fb0b",
   "metadata": {},
   "outputs": [],
   "source": [
    "df.gpt_score = pd.to_numeric(df.gpt_score,errors='coerce')"
   ]
  },
  {
   "cell_type": "code",
   "execution_count": 4,
   "id": "291a05c9",
   "metadata": {},
   "outputs": [],
   "source": [
    "df.dropna(subset='gpt_score',inplace=True)"
   ]
  },
  {
   "cell_type": "code",
   "execution_count": 5,
   "id": "de9ebc80",
   "metadata": {},
   "outputs": [
    {
     "data": {
      "text/plain": [
       "(24660, 22)"
      ]
     },
     "execution_count": 5,
     "metadata": {},
     "output_type": "execute_result"
    }
   ],
   "source": [
    "df.shape"
   ]
  },
  {
   "cell_type": "code",
   "execution_count": 9,
   "id": "101dd9e9",
   "metadata": {},
   "outputs": [],
   "source": [
    "df['gpt_score'] = df['gpt_score'].clip(upper=1)"
   ]
  },
  {
   "cell_type": "code",
   "execution_count": 10,
   "id": "08dd3fcc",
   "metadata": {},
   "outputs": [],
   "source": [
    "df['gpt_score'] = df['gpt_score'].clip(lower=0)"
   ]
  },
  {
   "cell_type": "code",
   "execution_count": 12,
   "id": "20f688bf",
   "metadata": {},
   "outputs": [
    {
     "data": {
      "text/plain": [
       "1.0"
      ]
     },
     "execution_count": 12,
     "metadata": {},
     "output_type": "execute_result"
    }
   ],
   "source": [
    "df.gpt_score.max()"
   ]
  },
  {
   "cell_type": "code",
   "execution_count": 13,
   "id": "9ff13839",
   "metadata": {},
   "outputs": [],
   "source": [
    "from sklearn.metrics import mean_squared_error, mean_absolute_error,r2_score,roc_auc_score\n",
    "from math import sqrt\n",
    "auc = roc_auc_score(df.label_mean,df.gpt_score)"
   ]
  },
  {
   "cell_type": "code",
   "execution_count": 14,
   "id": "5c96fb19",
   "metadata": {},
   "outputs": [
    {
     "name": "stdout",
     "output_type": "stream",
     "text": [
      "0.5052415253195495\n"
     ]
    }
   ],
   "source": [
    "print(auc)"
   ]
  },
  {
   "cell_type": "code",
   "execution_count": null,
   "id": "ad63e024",
   "metadata": {},
   "outputs": [],
   "source": []
  }
 ],
 "metadata": {
  "kernelspec": {
   "display_name": "BGU",
   "language": "python",
   "name": "bgu"
  },
  "language_info": {
   "codemirror_mode": {
    "name": "ipython",
    "version": 3
   },
   "file_extension": ".py",
   "mimetype": "text/x-python",
   "name": "python",
   "nbconvert_exporter": "python",
   "pygments_lexer": "ipython3",
   "version": "3.9.12"
  }
 },
 "nbformat": 4,
 "nbformat_minor": 5
}
