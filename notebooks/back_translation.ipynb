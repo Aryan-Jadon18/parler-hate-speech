{
 "cells": [
  {
   "cell_type": "code",
   "execution_count": 1,
   "id": "3aaa72c2-347e-484d-9976-66135b737763",
   "metadata": {},
   "outputs": [],
   "source": [
    "# !git clone https://github.com/facebookresearch/fastText.git\n",
    "# %cd fastText\n",
    "# !/home/danpr/.conda/envs/nlp2/bin/python -m pip install .\n",
    "# !git clone https://github.com/NasLabBgu/parler-hate-speech\n",
    "# !/home/danpr/.conda/envs/nlp2/bin/python -m pip install -U easynmt\n",
    "# !/home/danpr/.conda/envs/nlp2/bin/python -m pip install thai-segmenter\n",
    "# %cd .."
   ]
  },
  {
   "cell_type": "code",
   "execution_count": 2,
   "id": "122614dc-4d10-48cc-a2c5-cfa20e38f0c3",
   "metadata": {},
   "outputs": [
    {
     "name": "stderr",
     "output_type": "stream",
     "text": [
      "/home/danpr/.conda/envs/nlp2/lib/python3.9/site-packages/tqdm/auto.py:22: TqdmWarning: IProgress not found. Please update jupyter and ipywidgets. See https://ipywidgets.readthedocs.io/en/stable/user_install.html\n",
      "  from .autonotebook import tqdm as notebook_tqdm\n"
     ]
    }
   ],
   "source": [
    "from tqdm.auto import tqdm\n",
    "from easynmt import EasyNMT\n",
    "import pandas as pd\n",
    "import torch\n",
    "model = EasyNMT('m2m_100_418M')"
   ]
  },
  {
   "cell_type": "code",
   "execution_count": 3,
   "id": "1683c328-636d-42aa-b81c-05c5ee1ab4eb",
   "metadata": {},
   "outputs": [],
   "source": [
    "# def BackTranslation(df,lg='de'):\n",
    "#     sentences_en = df.text.to_list()\n",
    "#     translations_lg = model.translate(sentences_en, target_lang=lg)\n",
    "#     translations_back_translated = model.translate(translations_lg, target_lang='en')\n",
    "#     return translations_back_translated\n",
    "\n",
    "# df = pd.read_csv(\"parler-hate-speech/parler_annotated_data.csv\").head(10)\n",
    "\n",
    "# for lg in tqdm(['de','fr','ko', 'he', 'es']):\n",
    "#     df[f'BackTranslation_{lg}'] = BackTranslation(df,lg)"
   ]
  },
  {
   "cell_type": "code",
   "execution_count": 4,
   "id": "ade275f7-c1bf-43d4-926e-76dcbc0fbd35",
   "metadata": {},
   "outputs": [],
   "source": [
    "# df.to_csv(\"data_bk.csv\",index=False)"
   ]
  },
  {
   "cell_type": "code",
   "execution_count": 5,
   "id": "d3e3e8e6-617e-4e28-92da-b320cf88d4f6",
   "metadata": {},
   "outputs": [],
   "source": [
    "# row = df.iloc[3]\n",
    "# row['text']\n",
    "# row[f'BackTranslation_de']\n",
    "# row[f'BackTranslation_ko']\n",
    "# row[f'BackTranslation_fr']"
   ]
  },
  {
   "cell_type": "code",
   "execution_count": null,
   "id": "7e2fac50-e8ef-4424-b2db-a47c1c394d72",
   "metadata": {},
   "outputs": [
    {
     "name": "stdout",
     "output_type": "stream",
     "text": [
      "de\n"
     ]
    },
    {
     "name": "stderr",
     "output_type": "stream",
     "text": [
      " 13%|█▎        | 1344/10121 [05:14<34:17,  4.27it/s]Exception: 'eo'\n",
      " 14%|█▍        | 1407/10121 [05:32<34:17,  4.23it/s]\n"
     ]
    },
    {
     "name": "stdout",
     "output_type": "stream",
     "text": [
      "'eo'\n"
     ]
    },
    {
     "name": "stderr",
     "output_type": "stream",
     "text": [
      "100%|██████████| 1344/1344 [04:36<00:00,  4.86it/s]\n"
     ]
    },
    {
     "name": "stdout",
     "output_type": "stream",
     "text": [
      "fr\n"
     ]
    },
    {
     "name": "stderr",
     "output_type": "stream",
     "text": [
      " 13%|█▎        | 1344/10121 [04:50<31:37,  4.62it/s]Exception: 'eo'\n",
      " 14%|█▍        | 1407/10121 [05:08<31:53,  4.55it/s]\n"
     ]
    },
    {
     "name": "stdout",
     "output_type": "stream",
     "text": [
      "'eo'\n"
     ]
    },
    {
     "name": "stderr",
     "output_type": "stream",
     "text": [
      " 43%|████▎     | 576/1344 [01:58<02:38,  4.85it/s]Exception: 'ia'\n",
      " 48%|████▊     | 639/1344 [02:14<02:27,  4.77it/s]\n"
     ]
    },
    {
     "name": "stdout",
     "output_type": "stream",
     "text": [
      "'ia'\n",
      "ko\n"
     ]
    },
    {
     "name": "stderr",
     "output_type": "stream",
     "text": [
      " 13%|█▎        | 1344/10121 [05:15<34:22,  4.25it/s]Exception: 'eo'\n",
      " 14%|█▍        | 1407/10121 [05:33<34:24,  4.22it/s]\n"
     ]
    },
    {
     "name": "stdout",
     "output_type": "stream",
     "text": [
      "'eo'\n"
     ]
    },
    {
     "name": "stderr",
     "output_type": "stream",
     "text": [
      "100%|██████████| 1344/1344 [04:09<00:00,  5.38it/s]\n"
     ]
    },
    {
     "name": "stdout",
     "output_type": "stream",
     "text": [
      "he\n"
     ]
    },
    {
     "name": "stderr",
     "output_type": "stream",
     "text": [
      " 13%|█▎        | 1344/10121 [05:07<33:26,  4.37it/s]Exception: 'eo'\n",
      " 14%|█▍        | 1407/10121 [05:24<33:29,  4.34it/s]\n"
     ]
    },
    {
     "name": "stdout",
     "output_type": "stream",
     "text": [
      "'eo'\n"
     ]
    },
    {
     "name": "stderr",
     "output_type": "stream",
     "text": [
      "100%|██████████| 1344/1344 [04:05<00:00,  5.47it/s]\n"
     ]
    },
    {
     "name": "stdout",
     "output_type": "stream",
     "text": [
      "es\n"
     ]
    },
    {
     "name": "stderr",
     "output_type": "stream",
     "text": [
      "  6%|▌         | 576/10121 [02:15<37:19,  4.26it/s]"
     ]
    }
   ],
   "source": [
    "\"\"\"\n",
    "This example shows how EasyNMT to stream translations.\n",
    "Streaming translations can be useful when you want to translate a large set of sentences / documents.\n",
    "The method chunks the data, translates it, and returns the results.\n",
    "This can be useful if you want to write it e.g. to a file.\n",
    "\"\"\"\n",
    "\n",
    "#First, we create a large set of sentences:\n",
    "df = pd.read_csv(\"parler-hate-speech/parler_annotated_data.csv\")\n",
    "sentences_english = df.text.to_list()\n",
    "\n",
    "#The method model.translate_stream chunks the data into sets of size chunk_size\n",
    "#It then translate these documents/sentences and yields the result\n",
    "for target_language in ['de', 'fr', 'ko', 'he', 'es']:\n",
    "    print(target_language)\n",
    "    sentences_foreign = []\n",
    "    try:\n",
    "        for translated_2_foreign in model.translate_stream(sentences_english, show_progress_bar=True, chunk_size=64, target_lang=target_language):\n",
    "            sentences_foreign.append(translated_2_foreign)\n",
    "    except Exception as e:\n",
    "        print(e)\n",
    "\n",
    "    sentences_backtranslated = []\n",
    "    try:\n",
    "        for backtranslated_2_english in model.translate_stream(sentences_foreign, show_progress_bar=True, chunk_size=64, target_lang='en'):\n",
    "            sentences_backtranslated.append(backtranslated_2_english)\n",
    "    except Exception as e:\n",
    "        print(e)\n",
    "\n",
    "    dest_csv = f'parler-hate-speech/parler_annotated_data_{target_language}.csv'\n",
    "    pd.DataFrame(\n",
    "        list(zip(sentences_english, sentences_backtranslated)), \n",
    "        columns=['text', f'text_en_{target_language}_en']\n",
    "    ).merge(df, on='text').to_csv(dest_csv, index=False)"
   ]
  },
  {
   "cell_type": "code",
   "execution_count": null,
   "id": "ef045909-cfb8-49cc-881c-a0663ed68cbf",
   "metadata": {},
   "outputs": [],
   "source": []
  }
 ],
 "metadata": {
  "kernelspec": {
   "display_name": "nlp2",
   "language": "python",
   "name": "nlp2"
  },
  "language_info": {
   "codemirror_mode": {
    "name": "ipython",
    "version": 3
   },
   "file_extension": ".py",
   "mimetype": "text/x-python",
   "name": "python",
   "nbconvert_exporter": "python",
   "pygments_lexer": "ipython3",
   "version": "3.9.15"
  }
 },
 "nbformat": 4,
 "nbformat_minor": 5
}
