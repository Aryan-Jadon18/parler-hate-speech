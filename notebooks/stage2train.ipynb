{
 "cells": [
  {
   "cell_type": "code",
   "execution_count": 1,
   "id": "e78d6190-5d92-4b86-b7f3-dc4194f6757f",
   "metadata": {},
   "outputs": [],
   "source": [
    "from sklearn.metrics import mean_squared_error\n",
    "from sklearn.model_selection import StratifiedKFold, GroupKFold, KFold\n",
    "from iterstrat.ml_stratifiers import MultilabelStratifiedKFold\n",
    "import pandas as pd\n",
    "import numpy as np\n",
    "from sklearn.metrics import confusion_matrix\n",
    "import seaborn as sns\n",
    "from matplotlib import pyplot as plt\n",
    "from sklearn.metrics import accuracy_score\n",
    "from lightgbm import LGBMRegressor\n",
    "from lightgbm import LGBMClassifier\n",
    "import gc\n",
    "from sklearn.preprocessing import normalize\n",
    "import torch\n",
    "from sklearn.decomposition import TruncatedSVD\n",
    "from sklearn.svm import NuSVR,SVR\n",
    "from collections import Counter\n",
    "from sklearn.metrics import cohen_kappa_score"
   ]
  },
  {
   "cell_type": "code",
   "execution_count": 2,
   "id": "4d2d4652-00ee-4ace-a13e-f25b25790699",
   "metadata": {},
   "outputs": [],
   "source": [
    "def MCRMSE(y_trues, y_preds):\n",
    "    scores = []\n",
    "    idxes = y_trues.shape[1]\n",
    "    for i in range(idxes):\n",
    "        y_true = y_trues[:,i]\n",
    "        y_pred = y_preds[:,i]\n",
    "        score = mean_squared_error(y_true, y_pred, squared=False) # RMSE\n",
    "        scores.append(score)\n",
    "    mcrmse_score = np.mean(scores)\n",
    "    return mcrmse_score, scores\n",
    "\n",
    "def get_score(y_trues, y_preds):\n",
    "    mcrmse_score, scores = MCRMSE(y_trues, y_preds)\n",
    "    return mcrmse_score, scores\n",
    "def get_data(state):\n",
    "    X_train,y_train,X_val,y_val,XX_train,XX_val = state['EMB_train'],state['train_labels'],state['EMB'],state['valid_labels'],state['EMB_train_real'],state['EMB_real']\n",
    "    X = np.concatenate([X_train,X_val])\n",
    "    svd = TruncatedSVD(n_components=128)\n",
    "    EMB = svd.fit_transform(X)\n",
    "    X_train_svd = EMB[:len(X_train)]\n",
    "    X_val_svd = EMB[len(X_train):]\n",
    "    return X_train,y_train,X_val,y_val,X_train_svd,X_val_svd,XX_train,XX_val\n",
    "def train_lbg_reg(X_train_svd,y_train,X_val_svd,y_val):\n",
    "    model = LGBMRegressor(learning_rate=0.1,n_estimators =500,reg_lambda = 0.5)\n",
    "    model.fit(X_train_svd, y_train,eval_set=(X_val_svd, y_val),verbose=250,early_stopping_rounds=20)\n",
    "    pred = model.predict(X_val_svd)\n",
    "    return pred\n",
    "def train_lbg_cla(X_train_svd,y_train,X_val_svd,y_val):\n",
    "    w = np.array([np.count_nonzero(y_train.round().astype(int)-1 == row) for row in range(5)])\n",
    "    class_weight = {0:w[0],1:w[1],2:w[2],4:w[3]*100,4:w[4]*10}\n",
    "    model = LGBMClassifier(learning_rate=0.1,n_estimators =300,reg_lambda = 0.5,class_weight = class_weight)\n",
    "    model.fit(X_train_svd, y_train.round().astype(int)-1,eval_set=(X_val_svd, y_val.round().astype(int)-1),verbose=250,early_stopping_rounds=20)\n",
    "    pred = model.predict(X_val_svd)\n",
    "    return pred"
   ]
  },
  {
   "cell_type": "code",
   "execution_count": 3,
   "id": "5dcd13cc-2353-4b48-8eaf-f667a62e8bd0",
   "metadata": {},
   "outputs": [],
   "source": [
    "path = 'outputs_baseline/Narrativaai.deberta-v3-small-finetuned-hate_speech18'\n",
    "model = 'Narrativaai-deberta-v3-small-finetuned-hate_speech18'\n",
    "FOLDS = 4"
   ]
  },
  {
   "cell_type": "code",
   "execution_count": 4,
   "id": "63520be4-96fe-44a1-bb7c-667ffcf60d92",
   "metadata": {},
   "outputs": [
    {
     "data": {
      "text/plain": [
       "dict_keys(['model', 'predictions', 'EMB_train_real', 'EMB_real', 'EMB', 'valid_labels', 'EMB_train', 'valid_folds', 'train_labels', 'train_folds'])"
      ]
     },
     "execution_count": 4,
     "metadata": {},
     "output_type": "execute_result"
    }
   ],
   "source": [
    "state = torch.load(f\"{path}/{model}_fold0_best.pth\")\n",
    "state.keys()"
   ]
  },
  {
   "cell_type": "markdown",
   "id": "895c39bf-1371-4384-9fdc-2d4580503f98",
   "metadata": {},
   "source": [
    "# Train Regressor On Embeddings from pre-trin"
   ]
  },
  {
   "cell_type": "code",
   "execution_count": 5,
   "id": "e7445d78-0c36-4420-8151-df981821bbbf",
   "metadata": {},
   "outputs": [
    {
     "name": "stderr",
     "output_type": "stream",
     "text": [
      "/home/kaor/.local/lib/python3.7/site-packages/lightgbm/sklearn.py:726: UserWarning: 'early_stopping_rounds' argument is deprecated and will be removed in a future release of LightGBM. Pass 'early_stopping()' callback via 'callbacks' argument instead.\n",
      "  _log_warning(\"'early_stopping_rounds' argument is deprecated and will be removed in a future release of LightGBM. \"\n",
      "/home/kaor/.local/lib/python3.7/site-packages/lightgbm/sklearn.py:736: UserWarning: 'verbose' argument is deprecated and will be removed in a future release of LightGBM. Pass 'log_evaluation()' callback via 'callbacks' argument instead.\n",
      "  _log_warning(\"'verbose' argument is deprecated and will be removed in a future release of LightGBM. \"\n",
      "/home/kaor/.local/lib/python3.7/site-packages/lightgbm/sklearn.py:726: UserWarning: 'early_stopping_rounds' argument is deprecated and will be removed in a future release of LightGBM. Pass 'early_stopping()' callback via 'callbacks' argument instead.\n",
      "  _log_warning(\"'early_stopping_rounds' argument is deprecated and will be removed in a future release of LightGBM. \"\n",
      "/home/kaor/.local/lib/python3.7/site-packages/lightgbm/sklearn.py:736: UserWarning: 'verbose' argument is deprecated and will be removed in a future release of LightGBM. Pass 'log_evaluation()' callback via 'callbacks' argument instead.\n",
      "  _log_warning(\"'verbose' argument is deprecated and will be removed in a future release of LightGBM. \"\n",
      "/home/kaor/.local/lib/python3.7/site-packages/lightgbm/sklearn.py:726: UserWarning: 'early_stopping_rounds' argument is deprecated and will be removed in a future release of LightGBM. Pass 'early_stopping()' callback via 'callbacks' argument instead.\n",
      "  _log_warning(\"'early_stopping_rounds' argument is deprecated and will be removed in a future release of LightGBM. \"\n",
      "/home/kaor/.local/lib/python3.7/site-packages/lightgbm/sklearn.py:736: UserWarning: 'verbose' argument is deprecated and will be removed in a future release of LightGBM. Pass 'log_evaluation()' callback via 'callbacks' argument instead.\n",
      "  _log_warning(\"'verbose' argument is deprecated and will be removed in a future release of LightGBM. \"\n",
      "/home/kaor/.local/lib/python3.7/site-packages/lightgbm/sklearn.py:726: UserWarning: 'early_stopping_rounds' argument is deprecated and will be removed in a future release of LightGBM. Pass 'early_stopping()' callback via 'callbacks' argument instead.\n",
      "  _log_warning(\"'early_stopping_rounds' argument is deprecated and will be removed in a future release of LightGBM. \"\n",
      "/home/kaor/.local/lib/python3.7/site-packages/lightgbm/sklearn.py:736: UserWarning: 'verbose' argument is deprecated and will be removed in a future release of LightGBM. Pass 'log_evaluation()' callback via 'callbacks' argument instead.\n",
      "  _log_warning(\"'verbose' argument is deprecated and will be removed in a future release of LightGBM. \"\n"
     ]
    },
    {
     "data": {
      "text/plain": [
       "{'fold_0_score': 0.9246547577568621,\n",
       " 'fold_1_score': 0.9069779920491029,\n",
       " 'fold_2_score': 0.9094726974228095,\n",
       " 'fold_3_score': 0.9092474416210352,\n",
       " 'cv_score': 0.9126150247330902}"
      ]
     },
     "execution_count": 5,
     "metadata": {},
     "output_type": "execute_result"
    }
   ],
   "source": [
    "output_reg_real = {}\n",
    "pred_reg = []\n",
    "val_reg = []\n",
    "for fold in range(FOLDS):\n",
    "    state = torch.load(f\"{path}/{model}_fold{fold}_best.pth\")\n",
    "    X_train,y_train,X_val,y_val,X_train_svd,X_val_svd,XX_train,XX_val = get_data(state)\n",
    "    pred_lbg_reg = train_lbg_reg(XX_train,y_train.ravel(),XX_val,y_val.ravel())\n",
    "    score_lbg_reg = get_score(y_val.reshape(-1,1),pred_lbg_reg.reshape(-1,1))\n",
    "    output_reg_real[f'fold_{fold}_score'] = score_lbg_reg[0]\n",
    "    pred_reg = pred_reg + list(pred_lbg_reg.reshape(-1))\n",
    "    val_reg = val_reg + list(y_val)\n",
    "cv = get_score(np.array(val_reg).reshape(-1,1),np.array(pred_reg).reshape(-1,1))\n",
    "output_reg_real['cv_score'] = cv[0]\n",
    "output_reg_real"
   ]
  },
  {
   "cell_type": "markdown",
   "id": "282dc8e3-44ce-4b5b-997a-0144a8b85887",
   "metadata": {},
   "source": [
    "# Train Regressor On Embeddings After fine tune"
   ]
  },
  {
   "cell_type": "code",
   "execution_count": 6,
   "id": "1677e365-5960-49df-809e-0a8725ae41e5",
   "metadata": {},
   "outputs": [
    {
     "name": "stderr",
     "output_type": "stream",
     "text": [
      "/home/kaor/.local/lib/python3.7/site-packages/lightgbm/sklearn.py:726: UserWarning: 'early_stopping_rounds' argument is deprecated and will be removed in a future release of LightGBM. Pass 'early_stopping()' callback via 'callbacks' argument instead.\n",
      "  _log_warning(\"'early_stopping_rounds' argument is deprecated and will be removed in a future release of LightGBM. \"\n",
      "/home/kaor/.local/lib/python3.7/site-packages/lightgbm/sklearn.py:736: UserWarning: 'verbose' argument is deprecated and will be removed in a future release of LightGBM. Pass 'log_evaluation()' callback via 'callbacks' argument instead.\n",
      "  _log_warning(\"'verbose' argument is deprecated and will be removed in a future release of LightGBM. \"\n",
      "/home/kaor/.local/lib/python3.7/site-packages/lightgbm/sklearn.py:726: UserWarning: 'early_stopping_rounds' argument is deprecated and will be removed in a future release of LightGBM. Pass 'early_stopping()' callback via 'callbacks' argument instead.\n",
      "  _log_warning(\"'early_stopping_rounds' argument is deprecated and will be removed in a future release of LightGBM. \"\n",
      "/home/kaor/.local/lib/python3.7/site-packages/lightgbm/sklearn.py:736: UserWarning: 'verbose' argument is deprecated and will be removed in a future release of LightGBM. Pass 'log_evaluation()' callback via 'callbacks' argument instead.\n",
      "  _log_warning(\"'verbose' argument is deprecated and will be removed in a future release of LightGBM. \"\n",
      "/home/kaor/.local/lib/python3.7/site-packages/lightgbm/sklearn.py:726: UserWarning: 'early_stopping_rounds' argument is deprecated and will be removed in a future release of LightGBM. Pass 'early_stopping()' callback via 'callbacks' argument instead.\n",
      "  _log_warning(\"'early_stopping_rounds' argument is deprecated and will be removed in a future release of LightGBM. \"\n",
      "/home/kaor/.local/lib/python3.7/site-packages/lightgbm/sklearn.py:736: UserWarning: 'verbose' argument is deprecated and will be removed in a future release of LightGBM. Pass 'log_evaluation()' callback via 'callbacks' argument instead.\n",
      "  _log_warning(\"'verbose' argument is deprecated and will be removed in a future release of LightGBM. \"\n",
      "/home/kaor/.local/lib/python3.7/site-packages/lightgbm/sklearn.py:726: UserWarning: 'early_stopping_rounds' argument is deprecated and will be removed in a future release of LightGBM. Pass 'early_stopping()' callback via 'callbacks' argument instead.\n",
      "  _log_warning(\"'early_stopping_rounds' argument is deprecated and will be removed in a future release of LightGBM. \"\n",
      "/home/kaor/.local/lib/python3.7/site-packages/lightgbm/sklearn.py:736: UserWarning: 'verbose' argument is deprecated and will be removed in a future release of LightGBM. Pass 'log_evaluation()' callback via 'callbacks' argument instead.\n",
      "  _log_warning(\"'verbose' argument is deprecated and will be removed in a future release of LightGBM. \"\n"
     ]
    },
    {
     "data": {
      "text/plain": [
       "{'fold_0_score': 0.841654984927485,\n",
       " 'fold_1_score': 0.8336277130975779,\n",
       " 'fold_2_score': 0.8242548938440667,\n",
       " 'fold_3_score': 0.8149488569899014,\n",
       " 'cv_score': 0.828681657072699}"
      ]
     },
     "execution_count": 6,
     "metadata": {},
     "output_type": "execute_result"
    }
   ],
   "source": [
    "output_reg = {}\n",
    "pred_reg = []\n",
    "val_reg = []\n",
    "for fold in range(FOLDS):\n",
    "    state = torch.load(f\"{path}/{model}_fold{fold}_best.pth\")\n",
    "    X_train,y_train,X_val,y_val,X_train_svd,X_val_svd,_,_ = get_data(state)\n",
    "    pred_lbg_reg = train_lbg_reg(X_train_svd,y_train.ravel(),X_val_svd,y_val.ravel())\n",
    "    score_lbg_reg = get_score(y_val.reshape(-1,1),pred_lbg_reg.reshape(-1,1))\n",
    "    output_reg[f'fold_{fold}_score'] = score_lbg_reg[0]\n",
    "    pred_reg = pred_reg + list(pred_lbg_reg.reshape(-1))\n",
    "    val_reg = val_reg + list(y_val)\n",
    "cv = get_score(np.array(val_reg).reshape(-1,1),np.array(pred_reg).reshape(-1,1))\n",
    "output_reg['cv_score'] = cv[0]\n",
    "output_reg"
   ]
  },
  {
   "cell_type": "markdown",
   "id": "0c92a51c-61bc-4a9c-bf8e-dc020ad84191",
   "metadata": {},
   "source": [
    "# Train Classifier On Embeddings from pre-trin"
   ]
  },
  {
   "cell_type": "code",
   "execution_count": 7,
   "id": "113722aa-a4e3-4e88-afbf-ebcc15ff8d39",
   "metadata": {},
   "outputs": [
    {
     "name": "stderr",
     "output_type": "stream",
     "text": [
      "/home/kaor/.local/lib/python3.7/site-packages/lightgbm/sklearn.py:726: UserWarning: 'early_stopping_rounds' argument is deprecated and will be removed in a future release of LightGBM. Pass 'early_stopping()' callback via 'callbacks' argument instead.\n",
      "  _log_warning(\"'early_stopping_rounds' argument is deprecated and will be removed in a future release of LightGBM. \"\n",
      "/home/kaor/.local/lib/python3.7/site-packages/lightgbm/sklearn.py:736: UserWarning: 'verbose' argument is deprecated and will be removed in a future release of LightGBM. Pass 'log_evaluation()' callback via 'callbacks' argument instead.\n",
      "  _log_warning(\"'verbose' argument is deprecated and will be removed in a future release of LightGBM. \"\n",
      "/home/kaor/.local/lib/python3.7/site-packages/lightgbm/sklearn.py:726: UserWarning: 'early_stopping_rounds' argument is deprecated and will be removed in a future release of LightGBM. Pass 'early_stopping()' callback via 'callbacks' argument instead.\n",
      "  _log_warning(\"'early_stopping_rounds' argument is deprecated and will be removed in a future release of LightGBM. \"\n",
      "/home/kaor/.local/lib/python3.7/site-packages/lightgbm/sklearn.py:736: UserWarning: 'verbose' argument is deprecated and will be removed in a future release of LightGBM. Pass 'log_evaluation()' callback via 'callbacks' argument instead.\n",
      "  _log_warning(\"'verbose' argument is deprecated and will be removed in a future release of LightGBM. \"\n",
      "/home/kaor/.local/lib/python3.7/site-packages/lightgbm/sklearn.py:726: UserWarning: 'early_stopping_rounds' argument is deprecated and will be removed in a future release of LightGBM. Pass 'early_stopping()' callback via 'callbacks' argument instead.\n",
      "  _log_warning(\"'early_stopping_rounds' argument is deprecated and will be removed in a future release of LightGBM. \"\n",
      "/home/kaor/.local/lib/python3.7/site-packages/lightgbm/sklearn.py:736: UserWarning: 'verbose' argument is deprecated and will be removed in a future release of LightGBM. Pass 'log_evaluation()' callback via 'callbacks' argument instead.\n",
      "  _log_warning(\"'verbose' argument is deprecated and will be removed in a future release of LightGBM. \"\n",
      "/home/kaor/.local/lib/python3.7/site-packages/lightgbm/sklearn.py:726: UserWarning: 'early_stopping_rounds' argument is deprecated and will be removed in a future release of LightGBM. Pass 'early_stopping()' callback via 'callbacks' argument instead.\n",
      "  _log_warning(\"'early_stopping_rounds' argument is deprecated and will be removed in a future release of LightGBM. \"\n",
      "/home/kaor/.local/lib/python3.7/site-packages/lightgbm/sklearn.py:736: UserWarning: 'verbose' argument is deprecated and will be removed in a future release of LightGBM. Pass 'log_evaluation()' callback via 'callbacks' argument instead.\n",
      "  _log_warning(\"'verbose' argument is deprecated and will be removed in a future release of LightGBM. \"\n"
     ]
    },
    {
     "data": {
      "image/png": "[encoded data removed]",
      "text/plain": [
       "<Figure size 720x720 with 2 Axes>"
      ]
     },
     "metadata": {
      "needs_background": "light"
     },
     "output_type": "display_data"
    },
    {
     "data": {
      "image/png": "[encoded data removed]",
      "text/plain": [
       "<Figure size 720x720 with 2 Axes>"
      ]
     },
     "metadata": {
      "needs_background": "light"
     },
     "output_type": "display_data"
    },
    {
     "data": {
      "text/plain": [
       "{'fold_0_score': 0.399604743083004,\n",
       " 'fold_1_score': 0.4114624505928854,\n",
       " 'fold_2_score': 0.38798893717898064,\n",
       " 'fold_3_score': 0.39644268774703556,\n",
       " 'cv_score_acc': 0.39887362908803475,\n",
       " 'cv_score_kappa': 0.20818815824986703}"
      ]
     },
     "execution_count": 7,
     "metadata": {},
     "output_type": "execute_result"
    }
   ],
   "source": [
    "output_cla_real = {}\n",
    "pred_cla = []\n",
    "val_cla = []\n",
    "for fold in range(FOLDS):\n",
    "    state = torch.load(f\"{path}/{model}_fold{fold}_best.pth\")\n",
    "    X_train,y_train,X_val,y_val,X_train_svd,X_val_svd,XX,XX_val = get_data(state)\n",
    "    pred_lbg_cla = train_lbg_cla(XX,y_train.ravel(),XX_val,y_val.ravel())\n",
    "    score_lbg_cla = accuracy_score(y_val.round().astype(int)-1,pred_lbg_cla)\n",
    "    output_cla_real[f'fold_{fold}_score'] = score_lbg_cla\n",
    "    val_cla = val_cla + list(y_val)\n",
    "    pred_cla = pred_cla + list(pred_lbg_cla.reshape(-1))\n",
    "cv = accuracy_score(np.array(val_cla).round().astype(int)-1,np.array(pred_cla))\n",
    "output_cla_real['cv_score_acc'] = cv\n",
    "output_cla_real['cv_score_kappa']  = cohen_kappa_score(np.array(val_cla).round().astype(int)-1,np.array(pred_cla))\n",
    "cm = confusion_matrix(np.array(val_cla).round().astype(int)-1>2,np.array(pred_cla)>1)\n",
    "cmn = cm.astype('float') / cm.sum(axis=1)[:, np.newaxis]\n",
    "fig, ax = plt.subplots(figsize=(10,10))\n",
    "sns.heatmap(cmn, annot=True, fmt='.2f')\n",
    "plt.ylabel('Actual')\n",
    "plt.xlabel('Predicted')\n",
    "plt.show(block=False)\n",
    "cm = confusion_matrix(np.array(val_cla).round().astype(int)-1,np.array(pred_cla))\n",
    "cmn = cm.astype('float') / cm.sum(axis=1)[:, np.newaxis]\n",
    "fig, ax = plt.subplots(figsize=(10,10))\n",
    "sns.heatmap(cmn, annot=True, fmt='.2f')\n",
    "plt.ylabel('Actual')\n",
    "plt.xlabel('Predicted')\n",
    "plt.show(block=False)\n",
    "output_cla_real"
   ]
  },
  {
   "cell_type": "markdown",
   "id": "fac94e2f-2062-4d10-9020-3e6244f181a0",
   "metadata": {},
   "source": [
    "# Train Classifier On Embeddings After fine tune"
   ]
  },
  {
   "cell_type": "code",
   "execution_count": 8,
   "id": "a1ded9c5-beeb-4204-b056-e573c09e0c2d",
   "metadata": {},
   "outputs": [
    {
     "name": "stderr",
     "output_type": "stream",
     "text": [
      "/home/kaor/.local/lib/python3.7/site-packages/lightgbm/sklearn.py:726: UserWarning: 'early_stopping_rounds' argument is deprecated and will be removed in a future release of LightGBM. Pass 'early_stopping()' callback via 'callbacks' argument instead.\n",
      "  _log_warning(\"'early_stopping_rounds' argument is deprecated and will be removed in a future release of LightGBM. \"\n",
      "/home/kaor/.local/lib/python3.7/site-packages/lightgbm/sklearn.py:736: UserWarning: 'verbose' argument is deprecated and will be removed in a future release of LightGBM. Pass 'log_evaluation()' callback via 'callbacks' argument instead.\n",
      "  _log_warning(\"'verbose' argument is deprecated and will be removed in a future release of LightGBM. \"\n",
      "/home/kaor/.local/lib/python3.7/site-packages/lightgbm/sklearn.py:726: UserWarning: 'early_stopping_rounds' argument is deprecated and will be removed in a future release of LightGBM. Pass 'early_stopping()' callback via 'callbacks' argument instead.\n",
      "  _log_warning(\"'early_stopping_rounds' argument is deprecated and will be removed in a future release of LightGBM. \"\n",
      "/home/kaor/.local/lib/python3.7/site-packages/lightgbm/sklearn.py:736: UserWarning: 'verbose' argument is deprecated and will be removed in a future release of LightGBM. Pass 'log_evaluation()' callback via 'callbacks' argument instead.\n",
      "  _log_warning(\"'verbose' argument is deprecated and will be removed in a future release of LightGBM. \"\n",
      "/home/kaor/.local/lib/python3.7/site-packages/lightgbm/sklearn.py:726: UserWarning: 'early_stopping_rounds' argument is deprecated and will be removed in a future release of LightGBM. Pass 'early_stopping()' callback via 'callbacks' argument instead.\n",
      "  _log_warning(\"'early_stopping_rounds' argument is deprecated and will be removed in a future release of LightGBM. \"\n",
      "/home/kaor/.local/lib/python3.7/site-packages/lightgbm/sklearn.py:736: UserWarning: 'verbose' argument is deprecated and will be removed in a future release of LightGBM. Pass 'log_evaluation()' callback via 'callbacks' argument instead.\n",
      "  _log_warning(\"'verbose' argument is deprecated and will be removed in a future release of LightGBM. \"\n",
      "/home/kaor/.local/lib/python3.7/site-packages/lightgbm/sklearn.py:726: UserWarning: 'early_stopping_rounds' argument is deprecated and will be removed in a future release of LightGBM. Pass 'early_stopping()' callback via 'callbacks' argument instead.\n",
      "  _log_warning(\"'early_stopping_rounds' argument is deprecated and will be removed in a future release of LightGBM. \"\n",
      "/home/kaor/.local/lib/python3.7/site-packages/lightgbm/sklearn.py:736: UserWarning: 'verbose' argument is deprecated and will be removed in a future release of LightGBM. Pass 'log_evaluation()' callback via 'callbacks' argument instead.\n",
      "  _log_warning(\"'verbose' argument is deprecated and will be removed in a future release of LightGBM. \"\n"
     ]
    },
    {
     "data": {
      "image/png": "[encoded data removed]",
      "text/plain": [
       "<Figure size 720x720 with 2 Axes>"
      ]
     },
     "metadata": {
      "needs_background": "light"
     },
     "output_type": "display_data"
    },
    {
     "data": {
      "image/png": "[encoded data removed]",
      "text/plain": [
       "<Figure size 720x720 with 2 Axes>"
      ]
     },
     "metadata": {
      "needs_background": "light"
     },
     "output_type": "display_data"
    },
    {
     "data": {
      "text/plain": [
       "{'fold_0_score': 0.44189723320158103,\n",
       " 'fold_1_score': 0.4474308300395257,\n",
       " 'fold_2_score': 0.4381667325167918,\n",
       " 'fold_3_score': 0.46482213438735176,\n",
       " 'cv_score_acc': 0.4480782531370418,\n",
       " 'cv_score_kappa': 0.2860893297238205}"
      ]
     },
     "execution_count": 8,
     "metadata": {},
     "output_type": "execute_result"
    }
   ],
   "source": [
    "output_cla = {}\n",
    "pred_cla = []\n",
    "val_cla = []\n",
    "for fold in range(FOLDS):\n",
    "    state = torch.load(f\"{path}/{model}_fold{fold}_best.pth\")\n",
    "    X_train,y_train,X_val,y_val,X_train_svd,X_val_svd,XX,XX_val = get_data(state)\n",
    "    pred_lbg_cla = train_lbg_cla(X_train_svd,y_train.ravel(),X_val_svd,y_val.ravel())\n",
    "    score_lbg_cla = accuracy_score(y_val.round().astype(int)-1,pred_lbg_cla)\n",
    "    output_cla[f'fold_{fold}_score'] = score_lbg_cla\n",
    "    val_cla = val_cla + list(y_val)\n",
    "    pred_cla = pred_cla + list(pred_lbg_cla.reshape(-1))\n",
    "cv = accuracy_score(np.array(val_cla).round().astype(int)-1,np.array(pred_cla))\n",
    "output_cla['cv_score_acc'] = cv\n",
    "output_cla['cv_score_kappa']  = cohen_kappa_score(np.array(val_cla).round().astype(int)-1,np.array(pred_cla))\n",
    "cm = confusion_matrix(np.array(val_cla).round().astype(int)-1>2,np.array(pred_cla)>1)\n",
    "cmn = cm.astype('float') / cm.sum(axis=1)[:, np.newaxis]\n",
    "fig, ax = plt.subplots(figsize=(10,10))\n",
    "sns.heatmap(cmn, annot=True, fmt='.2f')\n",
    "plt.ylabel('Actual')\n",
    "plt.xlabel('Predicted')\n",
    "plt.show(block=False)\n",
    "cm = confusion_matrix(np.array(val_cla).round().astype(int)-1,np.array(pred_cla))\n",
    "cmn = cm.astype('float') / cm.sum(axis=1)[:, np.newaxis]\n",
    "fig, ax = plt.subplots(figsize=(10,10))\n",
    "sns.heatmap(cmn, annot=True, fmt='.2f')\n",
    "plt.ylabel('Actual')\n",
    "plt.xlabel('Predicted')\n",
    "plt.show(block=False)\n",
    "output_cla"
   ]
  },
  {
   "cell_type": "code",
   "execution_count": 9,
   "id": "e112d5ad-4409-466b-9ad8-82a10a02e60c",
   "metadata": {},
   "outputs": [
    {
     "data": {
      "text/plain": [
       "({'fold_0_score': 0.9246547577568621,\n",
       "  'fold_1_score': 0.9069779920491029,\n",
       "  'fold_2_score': 0.9094726974228095,\n",
       "  'fold_3_score': 0.9092474416210352,\n",
       "  'cv_score': 0.9126150247330902},\n",
       " {'fold_0_score': 0.841654984927485,\n",
       "  'fold_1_score': 0.8336277130975779,\n",
       "  'fold_2_score': 0.8242548938440667,\n",
       "  'fold_3_score': 0.8149488569899014,\n",
       "  'cv_score': 0.828681657072699})"
      ]
     },
     "execution_count": 9,
     "metadata": {},
     "output_type": "execute_result"
    }
   ],
   "source": [
    "output_reg_real,output_reg"
   ]
  },
  {
   "cell_type": "code",
   "execution_count": 10,
   "id": "3b6b1c98-0272-4c9c-a030-d8b540e39cf4",
   "metadata": {},
   "outputs": [
    {
     "data": {
      "text/plain": [
       "({'fold_0_score': 0.399604743083004,\n",
       "  'fold_1_score': 0.4114624505928854,\n",
       "  'fold_2_score': 0.38798893717898064,\n",
       "  'fold_3_score': 0.39644268774703556,\n",
       "  'cv_score_acc': 0.39887362908803475,\n",
       "  'cv_score_kappa': 0.20818815824986703},\n",
       " {'fold_0_score': 0.44189723320158103,\n",
       "  'fold_1_score': 0.4474308300395257,\n",
       "  'fold_2_score': 0.4381667325167918,\n",
       "  'fold_3_score': 0.46482213438735176,\n",
       "  'cv_score_acc': 0.4480782531370418,\n",
       "  'cv_score_kappa': 0.2860893297238205})"
      ]
     },
     "execution_count": 10,
     "metadata": {},
     "output_type": "execute_result"
    }
   ],
   "source": [
    "output_cla_real,output_cla"
   ]
  },
  {
   "cell_type": "code",
   "execution_count": null,
   "id": "f6a4a5ba-9836-40c6-aee5-02df7b6f2983",
   "metadata": {},
   "outputs": [],
   "source": []
  }
 ],
 "metadata": {
  "kernelspec": {
   "display_name": "Python (mmdet)",
   "language": "python",
   "name": "mmdet"
  },
  "language_info": {
   "codemirror_mode": {
    "name": "ipython",
    "version": 3
   },
   "file_extension": ".py",
   "mimetype": "text/x-python",
   "name": "python",
   "nbconvert_exporter": "python",
   "pygments_lexer": "ipython3",
   "version": "3.7.10"
  }
 },
 "nbformat": 4,
 "nbformat_minor": 5
}
